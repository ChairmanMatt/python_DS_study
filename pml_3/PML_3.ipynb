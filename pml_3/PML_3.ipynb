{
 "cells": [
  {
   "cell_type": "markdown",
   "metadata": {},
   "source": [
    "# Python Machine Learning 3 - Model Selection\n",
    "\n",
    "<p><a name=\"sections\"></a></p>\n",
    "\n",
    "\n",
    "## Sections\n",
    "\n",
    "- <a href=\"#error\">Training Error and Test Error</a><br>\n",
    "- <a href=\"#cv\">Cross Validation</a><br>\n",
    "- <a href=\"#cv-sklearn\">Cross Validation in Scikit-Learn</a><br>\n",
    "    - <a href=\"#ex1\">Exercise 1</a><br>\n",
    "- <a href=\"#cvMore\">More on Cross Validation Object</a><br>\n",
    "    - <a href=\"#ex2\">Exercise 2</a><br>\n",
    "- <a href=\"#boot\">Bootstrap</a><br>\n",
    "- <a href=\"#boot-sklearn\">Bootstrap in Scikit-Learn</a><br>\n",
    "    - <a href=\"#boot-ex\">Bootstrap Example for Statistics</a><br>\n",
    "- <a href=\"#feature\">Feature Selection</a><br>\n",
    "    - <a href=\"#remove\">Removing Features with Low Variance</a><br>\n",
    "        - <a href=\"#ex3\">Exercise 3</a><br>\n",
    "    - <a href=\"#univariate\">Univariate Feature Selection</a><br>\n",
    "        - <a href=\"#ex4\">Exercise 4</a><br>\n",
    "- <a href=\"#reg\">Regularization</a><br>\n",
    "    - <a href=\"#ridge\">Ridge Regression</a><br>\n",
    "    - <a href=\"#ridge-sklearn\">Ridge Regression in Scikit-Learn</a><br>\n",
    "    - <a href=\"#lasso\">Lasso Regression</a><br>\n",
    "    - <a href=\"#lasso-sklearn\">Lasso Regression in Scikit-Learn</a><br>\n",
    "    - <a href=\"#elastic\">ElasticNet</a><br>\n",
    "    - <a href=\"#elastic-sklearn\">ElasticNet in Scikit-Learn</a><br>\n",
    "- <a href=\"#grid\">Grid Search</a><br>\n",
    "    - <a href=\"#validation_curves\">Validation Curves</a><br>\n",
    "- <a href=\"#ref\">Reference</a><br>"
   ]
  },
  {
   "cell_type": "markdown",
   "metadata": {},
   "source": [
    "<p><a name=\"error\"></a></p>\n",
    "## Training Error and Test Error\n",
    "\n",
    "Recall the difference between the accuracy on the training data set and test data set.\n",
    "\n",
    "Now we define **training error** and **test error** as:\n",
    "\n",
    "- *training error* the error we get applying the model to the same data from which we trained.\n",
    "\n",
    "- *test error* the error that we incur on new data. \n",
    "  - The test error is actually how well we'll do on future data the model hasn't seen\n",
    "  \n",
    "Training error almost always underestimates test error, sometimes dramatically.\n"
   ]
  },
  {
   "cell_type": "markdown",
   "metadata": {},
   "source": [
    "**Problem of Underestimate**\n",
    "\n",
    "- The goal of learning is try to minimize the error for future prediction. However this is always **unknown**.\n",
    "- The prediction error can be represented by the test error if we carefully choose the test dataset.\n"
   ]
  },
  {
   "cell_type": "markdown",
   "metadata": {},
   "source": [
    "**Solutions**\n",
    "\n",
    "To estimate the test error:\n",
    "\n",
    "- Ａ large test set is the best and simplest solution. Unfortunately, that is often unavailable.\n",
    "\n",
    "- We consider that estimate the test error by holding out a subset of the training observations from the fitting process, and then applying the learning method to those held out observations."
   ]
  },
  {
   "cell_type": "markdown",
   "metadata": {},
   "source": [
    "**Validation**\n",
    "\n",
    "- Concretely, we randomly divide the available set of samples into two parts: a **training set** and a **validation set**.\n",
    "\n",
    "- Then fit the model based on the training set, and predict the responses for the observations in the validation set.\n",
    "\n",
    "- The error of the validation set is an estimate of the test error. Typically,\n",
    "    \n",
    "    - For a quantitative response(regression problem), it's the MSE(mean square error)\n",
    "    - For a qualitative response(classification problem), it's the misclassification rate"
   ]
  },
  {
   "cell_type": "markdown",
   "metadata": {},
   "source": [
    "**Drawbacks of validation**\n",
    "\n",
    "- The test error of the validation set may be highly variable, depending on how to split the data set\n",
    "\n",
    "- Only a fraction of the observations are included in the training set used to fit the model, while the others are wasted.\n",
    "\n",
    "- The validation set error may tend to overestimate the test error for the model fit on the entire data set, since some of the observations are not used in the fitting procedure."
   ]
  },
  {
   "cell_type": "markdown",
   "metadata": {},
   "source": [
    "<p><a name=\"cv\"></a></p>\n",
    "## Cross Validation\n",
    "Instead of split the data set into two parts, divide the data into $K$ equal-sized parts. \n",
    "\n",
    "- We leave out part $k$, fit the model to the other $K − 1$ parts (combined), and then obtain predictions for the left-out kth part.\n",
    "- This is done in turn for each part $k = 1, 2, . . . K$, and then the results are combined.\n",
    "\n",
    "This is called the **k fold cross validation**, which is widely used to estimate the test error."
   ]
  },
  {
   "cell_type": "markdown",
   "metadata": {},
   "source": [
    "\n",
    "\n",
    "\n",
    "Here is simple example of divide data into 3 equal-sized parts:\n",
    "\n",
    "\n",
    "part 1                                 | part 2                      | part 3\n",
    "---------------------------------------|-----------------------------|-----\n",
    "<font color=\"red\">validation</font>    | train                       | train\n",
    "train                                  | <font color=\"red\">validation</font> | train\n",
    "train | train | <font color=\"red\">validation</font>"
   ]
  },
  {
   "cell_type": "markdown",
   "metadata": {},
   "source": [
    "**Cross Validation For Regression**\n",
    "\n",
    "- After dividing the data into $K$ parts, let $C_i$ denotes the $i$th part of the observations.\n",
    "\n",
    "- Let $n_i$ denotes the number of the observations in $C_i$, $n$ denotes the total amount of the observations. If all the parts are equal-sized, then $n_i = \\frac{n}{k}$ for $i=1, 2, 3, ... k$.\n",
    "\n",
    "- The final test error is:\n",
    "$$CV_k = \\sum_{i=1}^{k}\\frac{n_i}{n} MSE_i$$\n",
    "while $MSE_i = \\sum_{j\\in c_i}\\frac{1}{n_i}(y_j-\\hat{y}_j)^2 \\text{. } \\hat{y}_j \\text{ refers to the prediction of observation } j$."
   ]
  },
  {
   "cell_type": "markdown",
   "metadata": {},
   "source": [
    "**Cross Validation For Classification**\n",
    "\n",
    "- After dividing the data into $K$ parts, let $C_i$ denotes the $i$th part of the observations.\n",
    "\n",
    "- Let $n_i$ denotes the number of the observations in $C_i$, $n$ denotes the total amount of the observations. If all the parts are equal-sized, then $n_i = \\frac{n}{k}$ for $i=1, 2, 3, ... k$.\n",
    "\n",
    "- The final test error is:\n",
    "$$\n",
    "\\text{ }\n",
    "CV_k = \\sum_{i=1}^{k}\\frac{n_i}{n} Error_i \\quad\n",
    "\\text{ }\n",
    "$$\n",
    "while $Error_i = \\sum_{j\\in c_i}\\frac{1}{n_i} (y_j !=\\hat{y}_j) \\quad\\text{. } \\hat{y}_j \\text{ refers to the prediction of observation } j.$\n",
    "\n",
    "- The estimated standard deviation of $CV_K$ is:\n",
    "$$SD(CV_K) = \\sqrt{ \\frac{1}{K-1} \\sum_{i=1}^{K} (Error_i - \\bar{Error})^2 }$$"
   ]
  },
  {
   "cell_type": "markdown",
   "metadata": {},
   "source": [
    "**Leave One Out Cross Validation**\n",
    "\n",
    "Particularly, if $k=n$, namely divide the data set into $n$ parts. Each observation is a unique part. This method is called **Leave one out cross validation(LOOCV for short)**.\n",
    "\n",
    "- LOOCV sometimes is useful, especially the data set is very small\n",
    "- LOOCV dose not shake up the data enough. In case of each fold are highly correlated, the average can have high variance\n",
    "- The computation of LOOCV is expensive\n",
    "\n",
    "So in practice, we rarely use LOOCV. $K=5$ or $K=10$ is commonly used."
   ]
  },
  {
   "cell_type": "markdown",
   "metadata": {},
   "source": [
    "<p><a name=\"cv-sklearn\"></a></p>\n",
    "## Cross Validation in Scikit-Learn\n",
    "\n",
    "The following functions list utilities to generate indices that can be used to generate data set splits according to different cross validation strategies.\n",
    "\n",
    "- **KFold**: divide all the observation into $k$ parts\n",
    "- **StratifiedKFold**: a variation of k-fold which returns stratified folds: each set contains approximately the same percentage of samples of each target class as the complete set.\n",
    "- **LeaveOneOut**: devide all the $n$ observation into $n$ parts"
   ]
  },
  {
   "cell_type": "markdown",
   "metadata": {},
   "source": [
    "**KFold**\n",
    "\n",
    "\n",
    "Generate the index by function `KFold`:"
   ]
  },
  {
   "cell_type": "markdown",
   "metadata": {},
   "source": [
    "WARNING: While the model_selection (new in 0.18) and cross_validation (deprecated in 0.18) have functions and objects of the same name, the interface has changed. cross_validation may be removed as soon as 2018 (in version 0.20). For now, I'll show both packages"
   ]
  },
  {
   "cell_type": "code",
   "execution_count": 1,
   "metadata": {},
   "outputs": [],
   "source": [
    "import sklearn\n",
    "assert(sklearn.__version__ > '0.18' and sklearn.__version__ < '0.20')"
   ]
  },
  {
   "cell_type": "code",
   "execution_count": 2,
   "metadata": {},
   "outputs": [
    {
     "name": "stdout",
     "output_type": "stream",
     "text": [
      "All data: [0 1 2 3 4 5]\n",
      "Train: [2 3 4 5] Validation: [0 1]\n",
      "Train: [0 1 4 5] Validation: [2 3]\n",
      "Train: [0 1 2 3] Validation: [4 5]\n"
     ]
    }
   ],
   "source": [
    "import numpy as np\n",
    "import sklearn.model_selection as ms\n",
    "# divide 6 samples into 3 parts\n",
    "sample = np.array(range(6))\n",
    "print('All data: {}'.format(sample))\n",
    "ms_k3 = ms.KFold(n_splits=3)\n",
    "for train_idx, val_idx in ms_k3.split(sample):\n",
    "    print('Train:', train_idx, 'Validation:', val_idx)"
   ]
  },
  {
   "cell_type": "code",
   "execution_count": 3,
   "metadata": {},
   "outputs": [
    {
     "name": "stdout",
     "output_type": "stream",
     "text": [
      "Train: [2 3 4 5] Validation: [0 1]\n",
      "Train: [0 1 4 5] Validation: [2 3]\n",
      "Train: [0 1 2 3] Validation: [4 5]\n"
     ]
    },
    {
     "name": "stderr",
     "output_type": "stream",
     "text": [
      "C:\\Users\\mlu\\AppData\\Local\\Continuum\\anaconda3\\lib\\site-packages\\sklearn\\cross_validation.py:41: DeprecationWarning: This module was deprecated in version 0.18 in favor of the model_selection module into which all the refactored classes and functions are moved. Also note that the interface of the new CV iterators are different from that of this module. This module will be removed in 0.20.\n",
      "  \"This module will be removed in 0.20.\", DeprecationWarning)\n"
     ]
    }
   ],
   "source": [
    "import sklearn.cross_validation as cv\n",
    "cv_k3 = cv.KFold(6, n_folds=3)\n",
    "for train_idx, val_idx in cv_k3:\n",
    "    print('Train:', train_idx, 'Validation:', val_idx)"
   ]
  },
  {
   "cell_type": "code",
   "execution_count": 4,
   "metadata": {},
   "outputs": [
    {
     "name": "stdout",
     "output_type": "stream",
     "text": [
      "Train: [1 1 1 1] Validation: [0 0]\n",
      "Train: [0 0 1 1] Validation: [1 1]\n",
      "Train: [0 0 1 1] Validation: [1 1]\n"
     ]
    }
   ],
   "source": [
    "y = np.array([0, 0, 1, 1, 1, 1])\n",
    "for train_idx, val_idx in ms_k3.split(y):\n",
    "    print('Train:', y[train_idx], 'Validation:', y[val_idx])"
   ]
  },
  {
   "cell_type": "code",
   "execution_count": 5,
   "metadata": {},
   "outputs": [
    {
     "name": "stdout",
     "output_type": "stream",
     "text": [
      "Train: [1 1 1 1] Validation: [0 0]\n",
      "Train: [0 0 1 1] Validation: [1 1]\n",
      "Train: [0 0 1 1] Validation: [1 1]\n"
     ]
    }
   ],
   "source": [
    "for train_idx, val_idx in cv_k3:\n",
    "    print('Train:', y[train_idx], 'Validation:', y[val_idx])"
   ]
  },
  {
   "cell_type": "markdown",
   "metadata": {},
   "source": [
    "**StratifiedKFold**\n",
    "\n",
    "In the last case, the distribution of validation set is highly variable.\n",
    "\n",
    "- In the first division, all the labels in the validation part are 0\n",
    "- In the last two divisions, all the labels in the validation part are 1\n",
    "\n",
    "This is due to the skew distribution of the original data. So it's better to use the function *StratifiedKFold*. As the data set is small, we create a larger set with 9 samples."
   ]
  },
  {
   "cell_type": "code",
   "execution_count": 6,
   "metadata": {},
   "outputs": [
    {
     "name": "stdout",
     "output_type": "stream",
     "text": [
      "Train: [0 0 1 1 1 1] Validation:  [0 1 1]\n",
      "Train: [0 0 1 1 1 1] Validation:  [0 1 1]\n",
      "Train: [0 0 1 1 1 1] Validation:  [0 1 1]\n"
     ]
    }
   ],
   "source": [
    "x = np.zeros(9)\n",
    "y = np.array([0, 0, 0, 1, 1, 1, 1, 1, 1])\n",
    "\n",
    "ms_k3s = ms.StratifiedKFold(n_splits=3)\n",
    "for train_idx, val_idx in ms_k3s.split(X=x, y=y):\n",
    "    print('Train:', y[train_idx], 'Validation: ', y[val_idx])"
   ]
  },
  {
   "cell_type": "code",
   "execution_count": 7,
   "metadata": {},
   "outputs": [
    {
     "name": "stdout",
     "output_type": "stream",
     "text": [
      "Train: [0 0 1 1 1 1] Validation:  [0 1 1]\n",
      "Train: [0 0 1 1 1 1] Validation:  [0 1 1]\n",
      "Train: [0 0 1 1 1 1] Validation:  [0 1 1]\n"
     ]
    }
   ],
   "source": [
    "cv_k3s = cv.StratifiedKFold(y, n_folds=3)\n",
    "for train_idx, val_idx in cv_k3s:\n",
    "    print('Train:', y[train_idx], 'Validation: ', y[val_idx])"
   ]
  },
  {
   "cell_type": "markdown",
   "metadata": {},
   "source": [
    "**train_test_split**\n",
    "\n",
    "The last three functions just return the indices of the training set and validation set. In scikit-learn, function **train_test_split**  can be used to generate a random split into training and test sets more quickly and directly."
   ]
  },
  {
   "cell_type": "code",
   "execution_count": 8,
   "metadata": {},
   "outputs": [
    {
     "name": "stdout",
     "output_type": "stream",
     "text": [
      "Original: (150, 4), (150,)\n",
      "Training: (100, 4), (100,)\n",
      "Test: (50, 4), (50,)\n"
     ]
    }
   ],
   "source": [
    "from sklearn import datasets\n",
    "iris = datasets.load_iris()\n",
    "x_train, x_test, y_train, y_test = ms.train_test_split(iris.data, iris.target, \n",
    "                                                       test_size=1.0/3, random_state=0)\n",
    "print('Original: {}, {}'.format(iris.data.shape, iris.target.shape))\n",
    "print('Training: {}, {}'.format(x_train.shape, y_train.shape))\n",
    "print('Test: {}, {}'.format(x_test.shape, y_test.shape))"
   ]
  },
  {
   "cell_type": "markdown",
   "metadata": {},
   "source": [
    "\n",
    "\n",
    "There are three important arguments to be setted in the function **train_test_split**：\n",
    "\n",
    "- **train_size**: Represent the proportion of the dataset to include in the training split, should be 0.0 to 1.0.\n",
    "- **test_size**: Represent the proportion of the dataset to include in the test split, should be 0.0 to 1.0.\n",
    "- **random_state**: Pseudo-random number generator state used for random sampling.\n",
    "\n",
    "*train_size* and *test_size* should be setted one of them."
   ]
  },
  {
   "cell_type": "markdown",
   "metadata": {},
   "source": [
    "<p><a name=\"ex1\"></a></p>\n",
    "### Exercise 1\n",
    "\n",
    "In this exercise we want to randomly split the iris dataset into **training dataset** and **test dataset** and then fit **logistic regression** models.\n",
    "\n",
    "To test the fitting result, we repeat the step for **5 times** and find the mean and standard deviation.\n",
    "\n",
    "- We first create a logistic regression model and create empty lists to collect the errors."
   ]
  },
  {
   "cell_type": "code",
   "execution_count": 9,
   "metadata": {},
   "outputs": [],
   "source": [
    "from sklearn import linear_model\n",
    "logit = linear_model.LogisticRegression()\n",
    "train_error = []\n",
    "test_error = []"
   ]
  },
  {
   "cell_type": "markdown",
   "metadata": {},
   "source": [
    "Write a for loop to:\n",
    "- Use `train_test_split` function to split \n",
    " - 1/3 of the data as the testing set.\n",
    " - 2/3 of the data as the training set.\n",
    "- Then fit the model and append the errors in the correct lists."
   ]
  },
  {
   "cell_type": "code",
   "execution_count": 11,
   "metadata": {},
   "outputs": [],
   "source": [
    "#### Your code here\n",
    "for i in range(0, 5): \n",
    "    x_train, x_test, y_train, y_test = ms.train_test_split(iris.data, iris.target, test_size=1.0/3, random_state=i)\n",
    "\n",
    "    logit.fit(x_train, y_train)\n",
    "\n",
    "    train_error.append(sum((1.0/100) * ((y_train - logit.predict(x_train)) ** 2)))\n",
    "    test_error.append(sum((1.0/50) * ((y_test - logit.predict(x_test)) ** 2)))\n"
   ]
  },
  {
   "cell_type": "markdown",
   "metadata": {},
   "source": [
    "Report the list of training and test errors. Compute the mean and the standard deviation of the errors."
   ]
  },
  {
   "cell_type": "code",
   "execution_count": 12,
   "metadata": {},
   "outputs": [
    {
     "name": "stdout",
     "output_type": "stream",
     "text": [
      "Training Error: [0.05, 0.04, 0.05, 0.03, 0.04]\n",
      "Test Error: [0.1, 0.12000000000000001, 0.08, 0.08, 0.06]\n",
      "Test Error Mean: 0.08800000000000001\n",
      "Test Error SD: 0.02039607805437114\n"
     ]
    }
   ],
   "source": [
    "#### Your code here\n",
    "\n",
    "print(\"Training Error: \" + str(train_error))\n",
    "print(\"Test Error: \" + str(test_error))\n",
    "\n",
    "tst_err_mean = sum(test_error)/5\n",
    "print(\"Test Error Mean: \" + str(tst_err_mean))\n",
    "\n",
    "testSD = ((1/5 * sum((test_error - tst_err_mean) ** 2))) ** 0.5\n",
    "print(\"Test Error SD: \" + str(testSD))"
   ]
  },
  {
   "cell_type": "markdown",
   "metadata": {},
   "source": [
    "We can see that the test error is always higher than the training error. And the mean error is 8.8%, while the standard deviation is 0.0204."
   ]
  },
  {
   "cell_type": "markdown",
   "metadata": {},
   "source": [
    "<p><a name=\"cvMore\"></a></p>\n",
    "\n",
    "## More on Cross Validation Object\n",
    "\n",
    "**cross_val_score**\n",
    "\n",
    "- To implement cross validation, the function **train_test_split** is still complicated.\n",
    "\n",
    "- If we just want to know the test error, the simplest way is to use **cross_val_score**.\n",
    "\n",
    "Here is a simple example of 5 fold cross validation with logistic regression:"
   ]
  },
  {
   "cell_type": "code",
   "execution_count": 13,
   "metadata": {},
   "outputs": [
    {
     "name": "stdout",
     "output_type": "stream",
     "text": [
      "Scores: [1.         0.96666667 0.93333333 0.9        1.        ]\n",
      "Score mean: 0.9600000000000002\n",
      "Score std deviation: 0.038873012632301994\n"
     ]
    }
   ],
   "source": [
    "logit = linear_model.LogisticRegression()\n",
    "scores = ms.cross_val_score(estimator=logit, X=iris.data, y=iris.target, cv=5)\n",
    "\n",
    "print('Scores: {}'.format(scores))\n",
    "print('Score mean: {}'.format(scores.mean()))\n",
    "print('Score std deviation: {}'.format(scores.std()))"
   ]
  },
  {
   "cell_type": "markdown",
   "metadata": {},
   "source": [
    "**`cross_val_score` with cross validation object**\n",
    "\n",
    "- The first argument of **cross_val_score** is a model. It's a logistic regression in this case. \n",
    "\n",
    "- The second and third argument refers to the predictors and the response. \n",
    "\n",
    "- The **cv** argument determines the splitting of cross validation. It's an integer  5 in this case. but it can be a **cross-validation object** as well. "
   ]
  },
  {
   "cell_type": "markdown",
   "metadata": {},
   "source": [
    "Here is a case that we randomly divide the data set by **KFold**:"
   ]
  },
  {
   "cell_type": "code",
   "execution_count": 16,
   "metadata": {},
   "outputs": [
    {
     "data": {
      "text/plain": [
       "array([1.        , 0.93333333, 0.43333333, 0.96666667, 0.43333333])"
      ]
     },
     "execution_count": 16,
     "metadata": {},
     "output_type": "execute_result"
    }
   ],
   "source": [
    "random_divide = ms.KFold(n_splits=5)\n",
    "scores = ms.cross_val_score(estimator=logit, X=iris.data, y=iris.target, cv=random_divide)\n",
    "scores"
   ]
  },
  {
   "cell_type": "code",
   "execution_count": 17,
   "metadata": {},
   "outputs": [
    {
     "data": {
      "text/plain": [
       "array([1.        , 0.93333333, 0.43333333, 0.96666667, 0.43333333])"
      ]
     },
     "execution_count": 17,
     "metadata": {},
     "output_type": "execute_result"
    }
   ],
   "source": [
    "random_divide = cv.KFold(n=150, n_folds=5)\n",
    "scores = cv.cross_val_score(estimator=logit, X=iris.data, y=iris.target, cv=random_divide)\n",
    "scores"
   ]
  },
  {
   "cell_type": "markdown",
   "metadata": {},
   "source": [
    "We can also use **StratifiedKFold** to split the dataset more evenly among different classes"
   ]
  },
  {
   "cell_type": "code",
   "execution_count": 18,
   "metadata": {},
   "outputs": [
    {
     "data": {
      "text/plain": [
       "array([1.        , 0.96666667, 0.93333333, 0.9       , 1.        ])"
      ]
     },
     "execution_count": 18,
     "metadata": {},
     "output_type": "execute_result"
    }
   ],
   "source": [
    "stratify_divide = ms.StratifiedKFold(n_splits=5, random_state=0)\n",
    "scores = ms.cross_val_score(estimator=logit, X=iris.data, y=iris.target, cv=stratify_divide)\n",
    "scores"
   ]
  },
  {
   "cell_type": "code",
   "execution_count": 19,
   "metadata": {},
   "outputs": [
    {
     "data": {
      "text/plain": [
       "array([1.        , 0.96666667, 0.93333333, 0.9       , 1.        ])"
      ]
     },
     "execution_count": 19,
     "metadata": {},
     "output_type": "execute_result"
    }
   ],
   "source": [
    "stratify_divide = cv.StratifiedKFold(y=iris.target, n_folds=5, random_state=0)\n",
    "scores = cv.cross_val_score(estimator=logit, X=iris.data, y=iris.target, cv=stratify_divide)\n",
    "scores"
   ]
  },
  {
   "cell_type": "markdown",
   "metadata": {},
   "source": [
    "**Test Error and Number of Folds**\n",
    "\n",
    "Now we want to examine the trend of mean and standard deviation of test error in KFold cross validation along increasing number of folds (from 3 to 50)"
   ]
  },
  {
   "cell_type": "code",
   "execution_count": 22,
   "metadata": {},
   "outputs": [],
   "source": [
    "mean_error = []\n",
    "std_error = []\n",
    "kfold = range(3, 50)\n",
    "for i in kfold:\n",
    "    scores = ms.cross_val_score(logit, iris.data, iris.target, cv=i)\n",
    "    mean_error.append(1 - scores.mean())\n",
    "    std_error.append(scores.std())"
   ]
  },
  {
   "cell_type": "code",
   "execution_count": 23,
   "metadata": {},
   "outputs": [
    {
     "data": {
      "image/png": "[encoded data removed]",
      "text/plain": [
       "<matplotlib.figure.Figure at 0x19dd6731898>"
      ]
     },
     "metadata": {},
     "output_type": "display_data"
    }
   ],
   "source": [
    "import matplotlib.pyplot as plt\n",
    "s1 = plt.scatter(kfold, mean_error, label='mean error')\n",
    "plt.plot(kfold, mean_error)\n",
    "s2 = plt.scatter(kfold, std_error, color='red', label='std')\n",
    "plt.plot(kfold, std_error, color='red')\n",
    "plt.xlim(0, 50)\n",
    "plt.xlabel('number of fold')\n",
    "plt.legend(handles=[s1, s2], loc=2)\n",
    "plt.show()"
   ]
  },
  {
   "cell_type": "markdown",
   "metadata": {},
   "source": [
    "<p><a name=\"ex2\"></a></p>\n",
    "\n",
    "### Exercise 2\n",
    "Run the following codes to generate a random data set. Then answer the following three questions with the data set."
   ]
  },
  {
   "cell_type": "code",
   "execution_count": 24,
   "metadata": {},
   "outputs": [],
   "source": [
    "import numpy as np\n",
    "\n",
    "n = 500\n",
    "np.random.seed(1)\n",
    "X = np.random.randn(n, 2)\n",
    "y = np.ones(n)\n",
    "y[X[:, 0] + X[:, 1] > 0] = 0"
   ]
  },
  {
   "cell_type": "code",
   "execution_count": 25,
   "metadata": {},
   "outputs": [
    {
     "data": {
      "image/png": "[encoded data removed]",
      "text/plain": [
       "<matplotlib.figure.Figure at 0x19dd6731ef0>"
      ]
     },
     "metadata": {},
     "output_type": "display_data"
    }
   ],
   "source": [
    "plt.scatter(X[:, 0], X[:, 1], c=y)\n",
    "plt.show()"
   ]
  },
  {
   "cell_type": "markdown",
   "metadata": {},
   "source": [
    "- Use the function **train_test_split** to divide the data set into two equal parts: training set and test set. Fit a **Linear Discriminant Analysis** model on the training set and make a prediction on the test error. What's the training error and test error?"
   ]
  },
  {
   "cell_type": "code",
   "execution_count": 27,
   "metadata": {},
   "outputs": [
    {
     "name": "stdout",
     "output_type": "stream",
     "text": [
      "Train error: 0.02\n",
      "Test error: 0.016\n"
     ]
    }
   ],
   "source": [
    "import sklearn.model_selection as ms\n",
    "from sklearn import discriminant_analysis\n",
    "model = discriminant_analysis.LinearDiscriminantAnalysis()\n",
    "\n",
    "#### Your code here\n",
    "\n",
    "## use train_test_split to split the dataset into training and test datasets\n",
    "\n",
    "## fit a LDA model with x_train, y_train\n",
    "## Train and test error will vary with random split\n",
    "\n",
    "x_train, x_test, y_train, y_test = ms.train_test_split(X, y, test_size=1.0/2, random_state=18)\n",
    "\n",
    "model.fit(x_train, y_train)\n",
    "train_error = 1/250 * sum((y_train - model.predict(x_train)) ** 2)\n",
    "test_error = 1/250 * sum((y_test - model.predict(x_test)) ** 2)\n",
    "\n",
    "print(\"Train error: \" + str(train_error))\n",
    "print(\"Test error: \" + str(test_error))\n"
   ]
  },
  {
   "cell_type": "markdown",
   "metadata": {},
   "source": [
    "- Use the function **KFold** to implement 5-fold cross validation with a **Linear Discriminant Analysis** model. Report the training errors and test errors."
   ]
  },
  {
   "cell_type": "code",
   "execution_count": 29,
   "metadata": {},
   "outputs": [
    {
     "name": "stdout",
     "output_type": "stream",
     "text": [
      "Train error: [0.028, 0.036000000000000004, 0.02, 0.024, 0.032]\n",
      "Test error: [0.06, 0.02, 0.04, 0.04, 0.0]\n"
     ]
    }
   ],
   "source": [
    "#### Your code here\n",
    "\n",
    "train_err_list = []\n",
    "test_err_list = []\n",
    "\n",
    "for train, test in ms.KFold(n_splits=5, random_state=4).split(X) :\n",
    "    x_2train, x_2test, y_2train, y_2test = X[train], X[test], y[train], y[test]\n",
    "    model.fit(x_2train, y_2train)\n",
    "    train_err_list.append(1/250 * sum((y_2train - model.predict(x_2train)) ** 2))\n",
    "    test_err_list.append(sum((1.0/50) * ((y_2test - model.predict(x_2test)) ** 2)))\n",
    "\n",
    "print(\"Train error: \" + str(train_err_list))\n",
    "print(\"Test error: \" + str(test_err_list))\n",
    "   \n",
    "## Find the training error\n",
    "\n",
    "## Find the test error"
   ]
  },
  {
   "cell_type": "markdown",
   "metadata": {},
   "source": [
    "- Use the function **cross_val_score** to implement 5-fold cross validation with a **Linear Discriminant Analysis** model. Report the test errors."
   ]
  },
  {
   "cell_type": "code",
   "execution_count": 30,
   "metadata": {},
   "outputs": [
    {
     "data": {
      "text/plain": [
       "array([0.03, 0.01, 0.02, 0.02, 0.  ])"
      ]
     },
     "execution_count": 30,
     "metadata": {},
     "output_type": "execute_result"
    }
   ],
   "source": [
    "## Use the function cross_val_score() to \n",
    "## implement 5-fold cross validation with \n",
    "## a Linear Discriminant Analysis model.\n",
    "scores = ms.cross_val_score(model, X, y ,cv=ms.KFold(n_splits=5, random_state=0))\n",
    "\n",
    "## test errors.\n",
    "1 - scores"
   ]
  },
  {
   "cell_type": "code",
   "execution_count": 31,
   "metadata": {},
   "outputs": [
    {
     "data": {
      "text/html": [
       "<div>\n",
       "<style scoped>\n",
       "    .dataframe tbody tr th:only-of-type {\n",
       "        vertical-align: middle;\n",
       "    }\n",
       "\n",
       "    .dataframe tbody tr th {\n",
       "        vertical-align: top;\n",
       "    }\n",
       "\n",
       "    .dataframe thead th {\n",
       "        text-align: right;\n",
       "    }\n",
       "</style>\n",
       "<table border=\"1\" class=\"dataframe\">\n",
       "  <thead>\n",
       "    <tr style=\"text-align: right;\">\n",
       "      <th></th>\n",
       "      <th>TV</th>\n",
       "      <th>Radio</th>\n",
       "      <th>Newspaper</th>\n",
       "      <th>Sales</th>\n",
       "    </tr>\n",
       "  </thead>\n",
       "  <tbody>\n",
       "    <tr>\n",
       "      <th>0</th>\n",
       "      <td>230.1</td>\n",
       "      <td>37.8</td>\n",
       "      <td>69.2</td>\n",
       "      <td>22.1</td>\n",
       "    </tr>\n",
       "    <tr>\n",
       "      <th>1</th>\n",
       "      <td>44.5</td>\n",
       "      <td>39.3</td>\n",
       "      <td>45.1</td>\n",
       "      <td>10.4</td>\n",
       "    </tr>\n",
       "    <tr>\n",
       "      <th>2</th>\n",
       "      <td>17.2</td>\n",
       "      <td>45.9</td>\n",
       "      <td>69.3</td>\n",
       "      <td>9.3</td>\n",
       "    </tr>\n",
       "    <tr>\n",
       "      <th>3</th>\n",
       "      <td>151.5</td>\n",
       "      <td>41.3</td>\n",
       "      <td>58.5</td>\n",
       "      <td>18.5</td>\n",
       "    </tr>\n",
       "    <tr>\n",
       "      <th>4</th>\n",
       "      <td>180.8</td>\n",
       "      <td>10.8</td>\n",
       "      <td>58.4</td>\n",
       "      <td>12.9</td>\n",
       "    </tr>\n",
       "  </tbody>\n",
       "</table>\n",
       "</div>"
      ],
      "text/plain": [
       "      TV  Radio  Newspaper  Sales\n",
       "0  230.1   37.8       69.2   22.1\n",
       "1   44.5   39.3       45.1   10.4\n",
       "2   17.2   45.9       69.3    9.3\n",
       "3  151.5   41.3       58.5   18.5\n",
       "4  180.8   10.8       58.4   12.9"
      ]
     },
     "execution_count": 31,
     "metadata": {},
     "output_type": "execute_result"
    }
   ],
   "source": [
    "import pandas as pd\n",
    "adver = pd.read_csv('data/adver.csv', index_col=0)\n",
    "x = adver[['TV', 'Radio', 'Newspaper']]\n",
    "y = adver[['Sales']]\n",
    "adver.head()"
   ]
  },
  {
   "cell_type": "markdown",
   "metadata": {},
   "source": [
    "<p><a name=\"boot\"></a></p>\n",
    "\n",
    "## Bootstrap\n",
    "\n",
    "**Bootstrap** is another resampling method which:\n",
    "\n",
    "- resample from the data set with replacement, not just division.\n",
    "\n",
    "- method is a powerful tool that can be used to quantify the uncertainty associated with a given estimator or learning algorithm.\n",
    "\n",
    "- can provide an estimate of the standard error or confidence interval of a coefficient.\n",
    "\n",
    "\n",
    "To quantify the uncertainty associated with a given estimator $\\alpha$:\n",
    "\n",
    "- Generate the first bootstrap data denoted by $B^{*1}$, use $B^{*1}$ to produce a new bootstrap estimate for $\\alpha$, denoted by $\\alpha^{*1}$.\n",
    "- Repeat the first step $K$ times, so that we have $K$ bootstrap data $B^{*1}, B^{*2}...B^{*K}$, as well as $K$ estimates $\\alpha^{*1}, \\alpha^{*2}...\\alpha^{*K}$.\n",
    "- We estimate the standard error of these estimates by the formula:\n",
    "$$\\sigma_{\\alpha} = \\sqrt{ \\frac{1}{K-1} \\sum_{i=1}^{K} (\\alpha^{*i} - \\bar{\\alpha^*})^2 }$$"
   ]
  },
  {
   "cell_type": "markdown",
   "metadata": {},
   "source": [
    "**Bootstrap for Validation**\n",
    "\n",
    "**Can bootstrap be used to estimate the test error?**\n",
    "\n",
    "- One way is fit models based on the bootstrap data and test on the original data.\n",
    "- Since there are many *overlap* between the bootstrap data and the original data, it will seriously underestimate the test error.\n",
    "- In cross validation, each of the K validation folds is distinct from the other K − 1 folds used for training: there is no overlap. This is crucial for its success.\n",
    "\n",
    "To estimate the test error using bootstrap,  we can only use predictions for those observations that did not occur in the current bootstrap sample.\n",
    "\n",
    "- Generate a bootstrap data $B^{*i}$, fit a model $M^{*i}$.\n",
    "- Make a prediction on the observations that are not in $B^{*i}$\n",
    "- Repeat the first two steps $K$ times\n",
    "\n",
    "This is called **Out Of Bag Error (OOB Error)**.\n",
    "\n",
    "- The OOB error is complicated to calculate.\n",
    "- Since each bootstrap data in randomly sampling from the original data, we have no idea how many *observations out of bag* left for testing. So we would loose control on the test fold size.\n",
    "- Cross validation is a simpler and more natural way to estimate the validation scores.\n",
    "\n",
    "<p><a name=\"boot-sklearn\"></a></p>\n",
    "## Bootstrap in Scikit-Learn"
   ]
  },
  {
   "cell_type": "code",
   "execution_count": 112,
   "metadata": {},
   "outputs": [
    {
     "name": "stdout",
     "output_type": "stream",
     "text": [
      "The original data: [1 2 3 4 5]\n",
      "The bootstrap sample: [4 5 3 5 4]\n"
     ]
    }
   ],
   "source": [
    "from sklearn.utils import resample\n",
    "y = np.array([1, 2, 3, 4, 5])\n",
    "print(\"The original data: \" + str(y))\n",
    "y_bs = resample(y)\n",
    "print(\"The bootstrap sample: \" + str(y_bs))"
   ]
  },
  {
   "cell_type": "markdown",
   "metadata": {},
   "source": [
    "- By default, the number of bootstrap samples is equal to the number in the original data.\n",
    "\n",
    "- To generate a dataset with less samples, we can change the parameter n_samples of the method:\n",
    "\n",
    "- Note that n_samples cannot be greater than the size of the dataset"
   ]
  },
  {
   "cell_type": "code",
   "execution_count": 113,
   "metadata": {},
   "outputs": [
    {
     "data": {
      "text/plain": [
       "array([4, 5, 2])"
      ]
     },
     "execution_count": 113,
     "metadata": {},
     "output_type": "execute_result"
    }
   ],
   "source": [
    "resample(y, n_samples=3)"
   ]
  },
  {
   "cell_type": "markdown",
   "metadata": {},
   "source": [
    "The `resample()` method also support multiple samplings:"
   ]
  },
  {
   "cell_type": "code",
   "execution_count": 114,
   "metadata": {},
   "outputs": [
    {
     "name": "stdout",
     "output_type": "stream",
     "text": [
      "x = \n",
      "[[-0.79005463  1.48456404]\n",
      " [-1.49407675  1.42576245]\n",
      " [-0.50164618  1.0674858 ]\n",
      " [ 1.95691216 -1.9536945 ]\n",
      " [ 1.18257238 -0.69302077]]\n",
      "\n",
      "y = \n",
      "[1 2 3 4 5]\n"
     ]
    }
   ],
   "source": [
    "x = np.random.randn(5, 2)\n",
    "y = np.array([1, 2, 3, 4, 5])\n",
    "print('x = \\n{}\\n\\ny = \\n{}'.format(x, y))"
   ]
  },
  {
   "cell_type": "code",
   "execution_count": 115,
   "metadata": {},
   "outputs": [
    {
     "name": "stdout",
     "output_type": "stream",
     "text": [
      "x = \n",
      "[[ 1.95691216 -1.9536945 ]\n",
      " [ 1.18257238 -0.69302077]\n",
      " [-1.49407675  1.42576245]\n",
      " [ 1.18257238 -0.69302077]\n",
      " [-0.50164618  1.0674858 ]]\n",
      "\n",
      "y = [4 5 2 5 3]\n"
     ]
    }
   ],
   "source": [
    "x_bs, y_bs = resample(x, y) # sampling x and y at the same time\n",
    "print('x = \\n{}\\n\\ny = {}'.format(x_bs, y_bs))"
   ]
  },
  {
   "cell_type": "markdown",
   "metadata": {},
   "source": [
    "### Bootstrap Example for Statistics\n",
    "\n",
    "Here is a example of estimating the standard error of the coefficients in linear regression.\n",
    "\n",
    "We will use the advertise data set in the \"adver.csv\" file."
   ]
  },
  {
   "cell_type": "code",
   "execution_count": 32,
   "metadata": {},
   "outputs": [
    {
     "data": {
      "text/html": [
       "<div>\n",
       "<style scoped>\n",
       "    .dataframe tbody tr th:only-of-type {\n",
       "        vertical-align: middle;\n",
       "    }\n",
       "\n",
       "    .dataframe tbody tr th {\n",
       "        vertical-align: top;\n",
       "    }\n",
       "\n",
       "    .dataframe thead th {\n",
       "        text-align: right;\n",
       "    }\n",
       "</style>\n",
       "<table border=\"1\" class=\"dataframe\">\n",
       "  <thead>\n",
       "    <tr style=\"text-align: right;\">\n",
       "      <th></th>\n",
       "      <th>TV</th>\n",
       "      <th>Radio</th>\n",
       "      <th>Newspaper</th>\n",
       "      <th>Sales</th>\n",
       "    </tr>\n",
       "  </thead>\n",
       "  <tbody>\n",
       "    <tr>\n",
       "      <th>0</th>\n",
       "      <td>230.1</td>\n",
       "      <td>37.8</td>\n",
       "      <td>69.2</td>\n",
       "      <td>22.1</td>\n",
       "    </tr>\n",
       "    <tr>\n",
       "      <th>1</th>\n",
       "      <td>44.5</td>\n",
       "      <td>39.3</td>\n",
       "      <td>45.1</td>\n",
       "      <td>10.4</td>\n",
       "    </tr>\n",
       "    <tr>\n",
       "      <th>2</th>\n",
       "      <td>17.2</td>\n",
       "      <td>45.9</td>\n",
       "      <td>69.3</td>\n",
       "      <td>9.3</td>\n",
       "    </tr>\n",
       "    <tr>\n",
       "      <th>3</th>\n",
       "      <td>151.5</td>\n",
       "      <td>41.3</td>\n",
       "      <td>58.5</td>\n",
       "      <td>18.5</td>\n",
       "    </tr>\n",
       "    <tr>\n",
       "      <th>4</th>\n",
       "      <td>180.8</td>\n",
       "      <td>10.8</td>\n",
       "      <td>58.4</td>\n",
       "      <td>12.9</td>\n",
       "    </tr>\n",
       "  </tbody>\n",
       "</table>\n",
       "</div>"
      ],
      "text/plain": [
       "      TV  Radio  Newspaper  Sales\n",
       "0  230.1   37.8       69.2   22.1\n",
       "1   44.5   39.3       45.1   10.4\n",
       "2   17.2   45.9       69.3    9.3\n",
       "3  151.5   41.3       58.5   18.5\n",
       "4  180.8   10.8       58.4   12.9"
      ]
     },
     "execution_count": 32,
     "metadata": {},
     "output_type": "execute_result"
    }
   ],
   "source": [
    "import pandas as pd\n",
    "adver = pd.read_csv('data/adver.csv', index_col=0)\n",
    "x = adver[['TV', 'Radio', 'Newspaper']]\n",
    "y = adver[['Sales']]\n",
    "adver.head()"
   ]
  },
  {
   "cell_type": "markdown",
   "metadata": {},
   "source": [
    "- This time we will employ the bootstrap method to calulate the standard error of the coefficients.\n",
    "- Generate 1000 bootstrap samples and then fit a regression model.\n",
    "- Calculate the mean and standard error of the coefficients of the bootstrap samples."
   ]
  },
  {
   "cell_type": "code",
   "execution_count": 33,
   "metadata": {},
   "outputs": [
    {
     "name": "stdout",
     "output_type": "stream",
     "text": [
      "The mean of the coefficients are: [ 0.04570344  0.18871405 -0.00086064]\n",
      "The standard error of the coefficients are: [0.00184763 0.01104676 0.00653076]\n"
     ]
    }
   ],
   "source": [
    "import numpy as np\n",
    "from sklearn import linear_model\n",
    "ols = linear_model.LinearRegression()\n",
    "\n",
    "from sklearn.utils import resample\n",
    "coefs = []\n",
    "for i in range(1000):\n",
    "    x_boot, y_boot = resample(x, y)\n",
    "    ols.fit(x_boot, y_boot)\n",
    "    coefs.append(ols.coef_[0])\n",
    "\n",
    "coefs = np.array(coefs)\n",
    "print(\"The mean of the coefficients are: \" + str(np.mean(coefs, 0)))\n",
    "print(\"The standard error of the coefficients are: \" + str(np.std(coefs, 0)))"
   ]
  },
  {
   "cell_type": "markdown",
   "metadata": {},
   "source": [
    "- The coefficients of the model fitting with the whole data set are:"
   ]
  },
  {
   "cell_type": "code",
   "execution_count": 34,
   "metadata": {},
   "outputs": [
    {
     "name": "stdout",
     "output_type": "stream",
     "text": [
      "Coefficients with Entire dataset:  [[ 0.04576465  0.18853002 -0.00103749]]\n",
      "Bootstrap estimates:  [ 0.04570344  0.18871405 -0.00086064]\n"
     ]
    }
   ],
   "source": [
    "ols.fit(x, y)\n",
    "print(\"Coefficients with Entire dataset: \", ols.coef_)\n",
    "print(\"Bootstrap estimates: \", np.mean(coefs, 0))"
   ]
  },
  {
   "cell_type": "markdown",
   "metadata": {},
   "source": [
    "- The two sets of coefficients are very close.\n",
    "- Bootstrap can estimate the standard error of the coefficients."
   ]
  },
  {
   "cell_type": "markdown",
   "metadata": {},
   "source": [
    "\n",
    "\n",
    "- Further more, we can constract a confidence interval for the coefficients.\n",
    "- If confidence intervals are constructed across many separate data analyses of repeated (and possibly different) experiments, the proportion of such intervals that contain the true value of the parameter will match the confidence level.\n",
    "- The simplest way is calculate the quantiles of the coefficients.\n",
    "\n",
    "Here is confidence interval with 95% confidence level:"
   ]
  },
  {
   "cell_type": "code",
   "execution_count": 35,
   "metadata": {},
   "outputs": [
    {
     "data": {
      "text/plain": [
       "array([[ 0.04185863,  0.16727889, -0.01319587],\n",
       "       [ 0.04929468,  0.20925397,  0.01237005]])"
      ]
     },
     "execution_count": 35,
     "metadata": {},
     "output_type": "execute_result"
    }
   ],
   "source": [
    "np.percentile(coefs, [2.5, 97.5], 0)"
   ]
  },
  {
   "cell_type": "markdown",
   "metadata": {},
   "source": [
    "- The interval of the TV's coefficient is [0.0421, 0.0496]\n",
    "- The interval of the Radio's coefficient is [0.1674, 0.2093]\n",
    "- The interval of the Newspaper's coefficient is [-0.0136, 0.0128]"
   ]
  },
  {
   "cell_type": "markdown",
   "metadata": {},
   "source": [
    "**Constructing Confidence Interval with Standard Errors**\n",
    "\n",
    "- Another way to constract the confidence interval is assume that the distribution of coefficients as gaussian distribution. \n",
    "- For gaussian distribution, the 95% confidence interval is :\n",
    "$$[\\mu - 2\\sigma, \\mu + 2\\sigma ]$$\n",
    "where $\\mu$ refers to the expectation and $\\sigma$ refers to the standard deviation."
   ]
  },
  {
   "cell_type": "code",
   "execution_count": 36,
   "metadata": {},
   "outputs": [
    {
     "name": "stdout",
     "output_type": "stream",
     "text": [
      "[ 0.04200818  0.16662053 -0.01392215]\n",
      "[0.0493987  0.21080758 0.01220088]\n"
     ]
    }
   ],
   "source": [
    "## Calculate the 95% confidence interval of the coefficient using equation\n",
    "print(np.mean(coefs, 0) - 2*np.std(coefs, 0))\n",
    "print(np.mean(coefs, 0) + 2*np.std(coefs, 0))"
   ]
  },
  {
   "cell_type": "markdown",
   "metadata": {},
   "source": [
    "Finally we can plot the histogram of coefficients estimated with bootstrap resampling:"
   ]
  },
  {
   "cell_type": "code",
   "execution_count": 37,
   "metadata": {},
   "outputs": [
    {
     "data": {
      "image/png": "[encoded data removed]",
      "text/plain": [
       "<matplotlib.figure.Figure at 0x19dd74e53c8>"
      ]
     },
     "metadata": {},
     "output_type": "display_data"
    }
   ],
   "source": [
    "import matplotlib\n",
    "matplotlib.rcParams['figure.figsize'] = (16, 4)\n",
    "import matplotlib.pyplot as plt\n",
    "\n",
    "xxx, sub = plt.subplots(1, 3)\n",
    "sub[0].hist(coefs[:, 0])\n",
    "sub[0].set_title('coefficients of TV')\n",
    "sub[1].hist(coefs[:, 1], color='yellow')\n",
    "sub[1].set_title('coefficients of Radio')\n",
    "sub[2].hist(coefs[:, 2], color='pink')\n",
    "sub[2].set_title('coefficients of Newspaper')\n",
    "plt.show()"
   ]
  },
  {
   "cell_type": "markdown",
   "metadata": {},
   "source": [
    "<p><a name=\"feature\"></a></p>\n",
    "## Feature Selection \n",
    "\n",
    "- Feature selection is the process of selecting a subset of relevant features for use in model construction. It's also known as **variable selection**.\n",
    "\n",
    "- Many areas including `text processing of internet documents`, `gene expression array analysis`, and `combinatorial chemistry` often have tens or hundreds of thousands of variables available. Feature selection is crucial.\n",
    "\n",
    "- The goals of feature selection are:\n",
    "    - improving prediction performance\n",
    "    - providing faster and more cost-effective predictors\n",
    "    - providing a better understanding of the underlying process that generated the data"
   ]
  },
  {
   "cell_type": "markdown",
   "metadata": {},
   "source": [
    "- In practice, feature selection often needs some background knowledge to determine which predictors to select.\n",
    "- We will introduce some basic methods from a mathematics perspective:\n",
    "    - Removing features with low variance\n",
    "    - Univariate feature selection\n",
    "    - L1-based feature selection\n",
    "    - Tree-based feature selection"
   ]
  },
  {
   "cell_type": "markdown",
   "metadata": {},
   "source": [
    "<p><a name=\"remove\"></a></p>\n",
    "### Removing Features with Low Variance\n",
    "\n",
    "- If a predictor has the same value in all observations, it's useless.\n",
    "- In linear regression, if a predictor is invariant, $X^TX$ will be singular. \n",
    "- The **VarianceThreshold** function is used to remove features with low variance. "
   ]
  },
  {
   "cell_type": "markdown",
   "metadata": {},
   "source": [
    "- **VarianceThreshold** removes all features whose variances don’t meet some thresholds. \n",
    "- By default, it removes all zero-variance features, i.e. features that have the same values among all samples."
   ]
  },
  {
   "cell_type": "markdown",
   "metadata": {},
   "source": [
    "Here is a short example:\n",
    "\n",
    "- There are four features in the iris data set: *sepal length, sepal width, petal length, petal width*.\n",
    "- The variances of the features are:"
   ]
  },
  {
   "cell_type": "code",
   "execution_count": 38,
   "metadata": {},
   "outputs": [
    {
     "name": "stdout",
     "output_type": "stream",
     "text": [
      "Shape: (150, 4)\n",
      "Variation:\n",
      "{'petal length (cm)': 3.0924248888888854,\n",
      " 'petal width (cm)': 0.5785315555555559,\n",
      " 'sepal length (cm)': 0.6811222222222222,\n",
      " 'sepal width (cm)': 0.1867506666666667}\n"
     ]
    }
   ],
   "source": [
    "from sklearn import datasets\n",
    "import numpy as np\n",
    "import pprint\n",
    "iris = datasets.load_iris()\n",
    "print('Shape: (%d, %d)' %iris.data.shape)\n",
    "print('Variation:')\n",
    "pprint.pprint(dict(zip(iris.feature_names, np.var(iris.data, 0))))"
   ]
  },
  {
   "cell_type": "markdown",
   "metadata": {},
   "source": [
    "Let's try to remove features with variances smaller than 1:"
   ]
  },
  {
   "cell_type": "code",
   "execution_count": 39,
   "metadata": {},
   "outputs": [
    {
     "data": {
      "text/plain": [
       "(150, 1)"
      ]
     },
     "execution_count": 39,
     "metadata": {},
     "output_type": "execute_result"
    }
   ],
   "source": [
    "import sklearn.feature_selection as fs\n",
    "x_new = fs.VarianceThreshold(threshold = 1).fit_transform(iris.data)\n",
    "x_new.shape"
   ]
  },
  {
   "cell_type": "markdown",
   "metadata": {},
   "source": [
    "- The argument \"threshold=1\" is used to define the threshold.\n",
    "- After the selection, the new variable $x\\_new$ has only one predictor."
   ]
  },
  {
   "cell_type": "markdown",
   "metadata": {},
   "source": [
    "<p><a name=\"ex3\"></a></p>\n",
    "\n",
    "#### Exercise 3\n",
    "\n",
    "Run the following code to obtain the data:"
   ]
  },
  {
   "cell_type": "code",
   "execution_count": 40,
   "metadata": {},
   "outputs": [
    {
     "name": "stdout",
     "output_type": "stream",
     "text": [
      "         x1        x2        x3        x4         x5         x6         y\n",
      "0  1.624345  2.638498  4.285832  6.961671  11.308158  18.368354 -6.403283\n",
      "1 -0.611756  0.374246 -0.228947  0.140060  -0.085683   0.052417  2.048085\n",
      "2 -0.528172  0.278965 -0.147342  0.077822  -0.041103   0.021710  0.875276\n",
      "3 -1.072969  1.151262 -1.235268  1.325403  -1.422116   1.525886  5.528936\n",
      "4  0.865408  0.748930  0.648130  0.560897   0.485404   0.420073 -0.676034\n"
     ]
    }
   ],
   "source": [
    "import pandas as pd\n",
    "import numpy as np\n",
    "data = pd.read_csv('data/data.csv')\n",
    "print(data.head())\n",
    "X = np.array(data[['x1', 'x2', 'x3', 'x4', 'x5', 'x6']])\n",
    "y = np.array(data[['y']])"
   ]
  },
  {
   "cell_type": "markdown",
   "metadata": {},
   "source": [
    "There are 7 variables in total. Select the best features from $x1, x2, x3, ..., x6$ to predict $y$.\n",
    "\n",
    "- Use the function **`VarianceThreshold`** to select the features whose variance is larger than 10. Assign the return of the `VarianceThreshold` function to `select1`.\n",
    " - How many features do you select?"
   ]
  },
  {
   "cell_type": "code",
   "execution_count": 42,
   "metadata": {},
   "outputs": [
    {
     "name": "stdout",
     "output_type": "stream",
     "text": [
      "(100, 3)\n"
     ]
    }
   ],
   "source": [
    "import sklearn.feature_selection as fs\n",
    "#### Your code here\n",
    "\n",
    "select1 = fs.VarianceThreshold(10).fit_transform(X)\n",
    "print(select1.shape)"
   ]
  },
  {
   "cell_type": "markdown",
   "metadata": {},
   "source": [
    "- Print out the first row of the features you select. Compare it to the first row of X. What features did you select."
   ]
  },
  {
   "cell_type": "code",
   "execution_count": 43,
   "metadata": {},
   "outputs": [
    {
     "name": "stdout",
     "output_type": "stream",
     "text": [
      "[ 0.14006    -0.0856826   0.05241688]\n",
      "[-0.61175641  0.37424591 -0.22894734  0.14006    -0.0856826   0.05241688]\n"
     ]
    }
   ],
   "source": [
    "#### Your code here\n",
    "print(select1[1])\n",
    "print(X[1])"
   ]
  },
  {
   "cell_type": "markdown",
   "metadata": {},
   "source": [
    "<p><a name=\"univariate\"></a></p>\n",
    "### Univariate Feature Selection\n",
    "\n",
    "- Univariate feature selection is based on the univariate statistical tests.\n",
    "- The tests we are using can be set manually.\n",
    "    - For regression problems, the most commonly used test is the F test.\n",
    "    - For classification problem, the most commonly used tests are the chi-square test and the F test.\n",
    "\n",
    "- Function **`chi2`** is used to perform a $\\chi^2$ test\n",
    "- Function **`f_regression`** is used to perform an $F$ test for regression problems\n",
    "- Function **`f_classifier`** is used to perform an $F$ test for classification problems"
   ]
  },
  {
   "cell_type": "markdown",
   "metadata": {},
   "source": [
    "For instance, we can perform a $\\chi^2$ test on the iris data. Test each feature with the response variable:"
   ]
  },
  {
   "cell_type": "code",
   "execution_count": 44,
   "metadata": {},
   "outputs": [
    {
     "data": {
      "text/plain": [
       "(array([ 10.81782088,   3.59449902, 116.16984746,  67.24482759]),\n",
       " array([4.47651499e-03, 1.65754167e-01, 5.94344354e-26, 2.50017968e-15]))"
      ]
     },
     "execution_count": 44,
     "metadata": {},
     "output_type": "execute_result"
    }
   ],
   "source": [
    "fs.chi2(iris.data, iris.target)"
   ]
  },
  {
   "cell_type": "markdown",
   "metadata": {},
   "source": [
    "- The first array is the $\\chi^2$ statistics\n",
    "- The second array is the corresponding $p$ value\n",
    "- Larger statistics and smaller $p$ values mean a significant relation\n",
    "- In this case the last two features have the smallest $p$ values and the largest $\\chi^2$ statistics"
   ]
  },
  {
   "cell_type": "markdown",
   "metadata": {},
   "source": [
    "#### SelectKBest\n",
    "\n",
    "We can use the following two functions to select features directly:\n",
    "\n",
    "- **SelectKBest**: keeps the $k$ highest scoring features\n",
    "- **SelectPercentile**: keeps a user-specified highest scoring percentage of features"
   ]
  },
  {
   "cell_type": "markdown",
   "metadata": {},
   "source": [
    "We use the function **SelectKBest** to select the best 2 features using the chi-square test:"
   ]
  },
  {
   "cell_type": "code",
   "execution_count": 55,
   "metadata": {},
   "outputs": [
    {
     "data": {
      "text/plain": [
       "(150, 2)"
      ]
     },
     "execution_count": 55,
     "metadata": {},
     "output_type": "execute_result"
    }
   ],
   "source": [
    "best2 = fs.SelectKBest(fs.chi2, k=2).fit_transform(iris.data, iris.target)\n",
    "best2.shape"
   ]
  },
  {
   "cell_type": "markdown",
   "metadata": {},
   "source": [
    "- Arguments in *fit_transform* should be the predictors and response variable\n",
    "- *fs.chi2* in *SelectKBest* means using the chi-square test\n",
    "- $k=2$ selects the best two features"
   ]
  },
  {
   "cell_type": "code",
   "execution_count": 56,
   "metadata": {},
   "outputs": [
    {
     "name": "stdout",
     "output_type": "stream",
     "text": [
      "[[1.4 0.2]\n",
      " [1.4 0.2]\n",
      " [1.3 0.2]]\n",
      "[[5.1 3.5 1.4 0.2]\n",
      " [4.9 3.  1.4 0.2]\n",
      " [4.7 3.2 1.3 0.2]]\n"
     ]
    }
   ],
   "source": [
    "print(best2[:3,])\n",
    "print(iris.data[:3,])"
   ]
  },
  {
   "cell_type": "markdown",
   "metadata": {},
   "source": [
    "We can see here: compared to the original predictors, the selected features are the last two features."
   ]
  },
  {
   "cell_type": "code",
   "execution_count": 57,
   "metadata": {},
   "outputs": [
    {
     "data": {
      "text/plain": [
       "(150, 3)"
      ]
     },
     "execution_count": 57,
     "metadata": {},
     "output_type": "execute_result"
    }
   ],
   "source": [
    "percent80 = fs.SelectPercentile(fs.chi2, 80).fit_transform(iris.data, iris.target) \n",
    "percent80.shape"
   ]
  },
  {
   "cell_type": "markdown",
   "metadata": {},
   "source": [
    "**SelectPercentile** is useful when there are thousands of features to choose from."
   ]
  },
  {
   "cell_type": "markdown",
   "metadata": {},
   "source": [
    "**Does this method really work?**\n",
    "\n",
    "- Let's add 10 columns of random noise into the iris data set.\n",
    "- Try to select the original true features using the **SelectKBest** method."
   ]
  },
  {
   "cell_type": "code",
   "execution_count": 45,
   "metadata": {},
   "outputs": [
    {
     "name": "stdout",
     "output_type": "stream",
     "text": [
      "The selected features are: \n",
      "[[5.1 3.5 1.4 0.2]\n",
      " [4.9 3.  1.4 0.2]\n",
      " [4.7 3.2 1.3 0.2]]\n",
      "The true features are: \n",
      "[[5.1 3.5 1.4 0.2]\n",
      " [4.9 3.  1.4 0.2]\n",
      " [4.7 3.2 1.3 0.2]]\n"
     ]
    }
   ],
   "source": [
    "nrow = iris.data.shape[0]\n",
    "noise = np.random.rand(nrow, 10)\n",
    "X_noise = np.column_stack((iris.data, noise)) # add noise \n",
    "best4 = fs.SelectKBest(fs.chi2, k=4).fit_transform(X_noise, iris.target) # select\n",
    "print(\"The selected features are: \" + '\\n' + str(best4[:3, ])) # print the selected features\n",
    "print(\"The true features are: \" + '\\n' + str(iris.data[:3, ])) # print the true features"
   ]
  },
  {
   "cell_type": "markdown",
   "metadata": {},
   "source": [
    "- For regression problems, we usually use the *f_regression* function to perform an F test.\n",
    "- Let's say we want to predict the fourth feature based on the first three features.\n",
    "- Select the best feature."
   ]
  },
  {
   "cell_type": "code",
   "execution_count": 47,
   "metadata": {},
   "outputs": [
    {
     "name": "stdout",
     "output_type": "stream",
     "text": [
      "[[1.4]\n",
      " [1.4]\n",
      " [1.3]]\n",
      "[[5.1 3.5 1.4]\n",
      " [4.9 3.  1.4]\n",
      " [4.7 3.2 1.3]]\n"
     ]
    }
   ],
   "source": [
    "iris.x = iris.data[:, 0:3]\n",
    "iris.y = iris.data[:, 3]\n",
    "best1 = fs.SelectKBest(fs.f_regression, k=1).fit_transform(iris.x, iris.y)\n",
    "print(best1[:3, :])\n",
    "print(iris.x[:3, :])"
   ]
  },
  {
   "cell_type": "markdown",
   "metadata": {},
   "source": [
    "We can see that this method selects the third feature as the best one."
   ]
  },
  {
   "cell_type": "code",
   "execution_count": 49,
   "metadata": {},
   "outputs": [
    {
     "data": {
      "text/plain": [
       "array([[ 1.        , -0.10936925,  0.87175416,  0.81795363],\n",
       "       [-0.10936925,  1.        , -0.4205161 , -0.35654409],\n",
       "       [ 0.87175416, -0.4205161 ,  1.        ,  0.9627571 ],\n",
       "       [ 0.81795363, -0.35654409,  0.9627571 ,  1.        ]])"
      ]
     },
     "execution_count": 49,
     "metadata": {},
     "output_type": "execute_result"
    }
   ],
   "source": [
    "np.corrcoef(iris.data.T)"
   ]
  },
  {
   "cell_type": "markdown",
   "metadata": {},
   "source": [
    "By checking the coefficient of the correlation between the features, the coefficient of the last two features is 0.9627."
   ]
  },
  {
   "cell_type": "markdown",
   "metadata": {},
   "source": [
    "<p><a name=\"ex4\"></a></p>\n",
    "#### Exercise 4\n",
    "\n",
    "With the data we loaded in the last exercise:\n",
    "\n",
    "- Use the function **SelectKBest** to select the best 3 features using the F test(*f_regression*). What are their names?"
   ]
  },
  {
   "cell_type": "code",
   "execution_count": 58,
   "metadata": {},
   "outputs": [
    {
     "name": "stdout",
     "output_type": "stream",
     "text": [
      "(100, 3)\n"
     ]
    }
   ],
   "source": [
    "import sklearn.feature_selection as fs\n",
    "#### Your code here, call the result select2\n",
    "\n",
    "select2 = fs.SelectKBest(fs.f_regression, 3).fit_transform(X, y.ravel())\n",
    "print(select2.shape)"
   ]
  },
  {
   "cell_type": "markdown",
   "metadata": {},
   "source": [
    "\n",
    "- Print out the first row of the features you select. Compare it to the first row of X. What are the features did you select. "
   ]
  },
  {
   "cell_type": "code",
   "execution_count": 53,
   "metadata": {},
   "outputs": [
    {
     "name": "stdout",
     "output_type": "stream",
     "text": [
      "[ 1.62434536  4.28583177 11.30815795]\n",
      "[ 1.62434536  2.63849786  4.28583177  6.96167096 11.30815795 18.36835393]\n"
     ]
    }
   ],
   "source": [
    "#### Your code here\n",
    "print(select2[0])\n",
    "print(X[0])"
   ]
  },
  {
   "cell_type": "markdown",
   "metadata": {},
   "source": [
    "** Appendix ** Here is how the data is generated:"
   ]
  },
  {
   "cell_type": "code",
   "execution_count": 54,
   "metadata": {},
   "outputs": [],
   "source": [
    "import numpy as np\n",
    "np.random.seed(1)\n",
    "m = 100\n",
    "x = np.random.randn(m) \n",
    "y = x + 2 * x**2 - 3 * x**3 + np.random.randn(m)\n",
    "X = np.column_stack((x, x**2, x**3, x**4, x**5, x**6))\n",
    "data = pd.DataFrame(np.column_stack((X, y)))\n",
    "data.columns = ['x1', 'x2', 'x3', 'x4', 'x5', 'x6', 'y']\n",
    "data.to_csv('data/data_new.csv', index=False)"
   ]
  },
  {
   "cell_type": "markdown",
   "metadata": {},
   "source": [
    "- The features in the true model are $x1, x2, x3$. \n",
    "- Compare the features you selected in question 1 and question 2 with the true features, what do you find?"
   ]
  },
  {
   "cell_type": "markdown",
   "metadata": {},
   "source": [
    "- The features selected in question 1 do not match any of the true features.\n",
    "- Two of the true features are included in the result for question 2.\n",
    "\n",
    "So:\n",
    "- Features with high variance do not mean they are more likely to be related to the response variable.\n",
    "- The argument *threshold* in **VarianceThreshold** should be set low to remove the features that are nearly invariable.\n",
    "- F test is more reliable to choose features."
   ]
  },
  {
   "cell_type": "markdown",
   "metadata": {},
   "source": [
    "<p><a name=\"reg\"></a></p>\n",
    "\n",
    "## Regularization\n",
    "- Fit a model using a technique that regularizes the coefficient estimates, or equivalently, that shrinks the coefficient estimates towards zero. \n",
    "\n",
    "- Shrinking the coefficient estimates can significantly reduce their variances.\n",
    "\n",
    "- The two best-known techniques of shrinking methods are **ridge regression** and **lasso**."
   ]
  },
  {
   "cell_type": "markdown",
   "metadata": {},
   "source": [
    "<p><a name=\"ridge\"></a></p>\n",
    "### Ridge Regression\n",
    "\n",
    "- Recall that the least squares procedure estimates $\\beta$ by minimizing\n",
    "$$\\sum_{i=1}^{n} (y^{(i)} - \\beta_0 - \\sum_{j=1}^{k} \\beta_jx_j^{(i)})^2$$\n",
    "\n",
    "- The **ridge regression** instead estimates $\\beta$ by minimizing\n",
    "$$\\sum_{i=1}^{n} (y^{(i)} - \\beta_0 - \\sum_{j=1}^{k} \\beta_jx_j^{(i)})^2 + \\lambda \\sum_{j=1}^{k}\\beta_j^2$$\n",
    "\n",
    "where $\\lambda \\ge 0$ is a *tuning parameter* to be determined."
   ]
  },
  {
   "cell_type": "markdown",
   "metadata": {},
   "source": [
    "\n",
    "- By adding the term $\\lambda \\sum_{j=1}^{k}\\beta_j^2$ in the loss function, the estimation will try to shrink the parameters toward 0, hence this term is also called the **shrinkage penalty**. This is also called **L2 penalty**.\n",
    "\n",
    "- The tuning parameter $\\lambda$ is used  to control the relative impact of these two terms on the regression coefficient estimates. \n",
    "    - When $\\lambda = 0$, the ridge estimate is the same  with the least square estimate. \n",
    "    - When $\\lambda \\to \\infty$, all the parameters except $\\beta_0$ will be 0, because we do not penalize $\\beta_0$ in the loss function. \n",
    "\n",
    "- Selecting a good value for $\\lambda$ is critical. In practice, we will try a grid of  $\\lambda$ values and choose the best one."
   ]
  },
  {
   "cell_type": "markdown",
   "metadata": {},
   "source": [
    "<p><a name=\"ridge-sklearn\"></a></p>\n",
    "### Ridge Regression in Scikit-Learn\n",
    "\n",
    "If you read the documentation of **Ridge** in python, the objective function implemented is:\n",
    "\n",
    "$$\\min_{\\theta}  \\parallel X\\theta - y \\parallel_2^2 + \\alpha \\parallel \\theta \\parallel_2^2$$\n",
    "\n",
    "which is the same as the previous formula, except they used $\\theta \\text{ and } \\alpha \\text{ in the place of } \\beta \\text{ and } \\lambda$.\n",
    "\n",
    "Traininging ridge regresison is similar to linear regression:"
   ]
  },
  {
   "cell_type": "code",
   "execution_count": 3,
   "metadata": {},
   "outputs": [],
   "source": [
    "## prepare data\n",
    "import pandas as pd\n",
    "import numpy as np\n",
    "adver = pd.read_csv('data/adver.csv', index_col=0)\n",
    "x = np.array(adver[['TV', 'Radio', 'Newspaper']])\n",
    "y = np.array(adver['Sales'])"
   ]
  },
  {
   "cell_type": "code",
   "execution_count": 4,
   "metadata": {},
   "outputs": [
    {
     "data": {
      "text/plain": [
       "(array([ 0.04576464,  0.1885251 , -0.00103629]), 2.9389674583301524)"
      ]
     },
     "execution_count": 4,
     "metadata": {},
     "output_type": "execute_result"
    }
   ],
   "source": [
    "from sklearn import linear_model\n",
    "ridge = linear_model.Ridge(alpha = 1) # create a ridge regression instance\n",
    "ridge.fit(x, y) # fit data\n",
    "ridge.coef_, ridge.intercept_ # print out the coefficients"
   ]
  },
  {
   "cell_type": "code",
   "execution_count": 5,
   "metadata": {},
   "outputs": [
    {
     "name": "stdout",
     "output_type": "stream",
     "text": [
      "The determination of ridge regression is: 0.8972\n"
     ]
    }
   ],
   "source": [
    "## determination\n",
    "print(\"The determination of ridge regression is: %.4f\" %ridge.score(x, y))"
   ]
  },
  {
   "cell_type": "code",
   "execution_count": 6,
   "metadata": {},
   "outputs": [
    {
     "data": {
      "text/plain": [
       "array([6.66082361])"
      ]
     },
     "execution_count": 6,
     "metadata": {},
     "output_type": "execute_result"
    }
   ],
   "source": [
    "## prediction \n",
    "ridge.predict([[5.2, 18.5, 3.7]])"
   ]
  },
  {
   "cell_type": "markdown",
   "metadata": {},
   "source": [
    "Here is an example showing how the coefficients vary as the parameter $\\alpha$ increases."
   ]
  },
  {
   "cell_type": "code",
   "execution_count": 7,
   "metadata": {},
   "outputs": [],
   "source": [
    "from sklearn import linear_model\n",
    "ridge = linear_model.Ridge()"
   ]
  },
  {
   "cell_type": "markdown",
   "metadata": {},
   "source": [
    "- Below we want to train a ridge model for each $\\alpha$, we collect the coefficients in the coef list for visualization later. Complete the for loop below."
   ]
  },
  {
   "cell_type": "code",
   "execution_count": 8,
   "metadata": {},
   "outputs": [],
   "source": [
    "alpha_100 = np.logspace(0, 8, 100)\n",
    "coef = []\n",
    "for i in alpha_100:\n",
    "    ridge.set_params(alpha = i)\n",
    "    ridge.fit(x, y)\n",
    "    coef.append(ridge.coef_)"
   ]
  },
  {
   "cell_type": "code",
   "execution_count": 11,
   "metadata": {},
   "outputs": [
    {
     "data": {
      "image/png": "[encoded data removed]",
      "text/plain": [
       "<matplotlib.figure.Figure at 0x28e5c68a198>"
      ]
     },
     "metadata": {},
     "output_type": "display_data"
    }
   ],
   "source": [
    "df_coef = pd.DataFrame(coef, index=alpha_100, columns=['TV', 'Radio', 'Newspaper'])\n",
    "import matplotlib.pyplot as plt\n",
    "title = 'Ridge coefficients as a function of the regularization'\n",
    "axes = df_coef.plot(logx=True, title=title)\n",
    "axes.set_xlabel('alpha')\n",
    "axes.set_ylabel('coefficients')\n",
    "plt.show()"
   ]
  },
  {
   "cell_type": "markdown",
   "metadata": {},
   "source": [
    "Another example using the iris data:"
   ]
  },
  {
   "cell_type": "code",
   "execution_count": 10,
   "metadata": {},
   "outputs": [
    {
     "data": {
      "image/png": "[encoded data removed]",
      "text/plain": [
       "<matplotlib.figure.Figure at 0x28e5c63f160>"
      ]
     },
     "metadata": {},
     "output_type": "display_data"
    }
   ],
   "source": [
    "from sklearn import datasets\n",
    "iris = datasets.load_iris()\n",
    "# use the first three variables to predict the fourth variable\n",
    "iris.x = iris.data[:, :3]\n",
    "iris.y = iris.data[:, 3]\n",
    "\n",
    "alpha_100 = np.logspace(-2, 5, 100)\n",
    "coef = []\n",
    "for i in alpha_100:\n",
    "    ridge.set_params(alpha = i)\n",
    "    ridge.fit(iris.x, iris.y)\n",
    "    coef.append(ridge.coef_)\n",
    "\n",
    "columns = [\"Sepal Length\", \"Sepal Width\", \"Petal Length\"]\n",
    "df_coef = pd.DataFrame(coef, index=alpha_100, columns=columns)\n",
    "title = 'Ridge coefficients as a function of the regularization'\n",
    "df_coef.plot(logx=True, title=title)\n",
    "plt.xlabel('alpha')\n",
    "plt.ylabel('coefficients')\n",
    "plt.show()"
   ]
  },
  {
   "cell_type": "markdown",
   "metadata": {},
   "source": [
    "<p><a name=\"lasso\"></a></p>\n",
    "### Lasso\n",
    "\n",
    "- Similar to ridge regression, **Lasso** also add an extra penalty term in the loss function\n",
    "- But the penalty term is slightly different from the ridge regression's. The loss function of Lasso is :\n",
    "\n",
    "$$\\sum_{i=1}^{n} (y^{(i)} - \\beta_0 - \\sum_{j=1}^{k} \\beta_jx_j^{(i)})^2 + \\lambda \\sum_{j=1}^{k}|\\beta_j|$$\n",
    "\n",
    "- In Lasso the penalty term $\\sum_{j=1}^{k}\\beta_j^2$ is replaced by $\\sum_{j=1}^{k}|\\beta_j|$, this also shrinks the coefficient estimates towards zero. \n",
    "\n",
    "- The penalty term Lasso uses is called  **L1 penalty** instead of the **L2 penalty** in ridge regression. "
   ]
  },
  {
   "cell_type": "markdown",
   "metadata": {},
   "source": [
    "\n",
    "- However, in the case of the lasso, the L1 penalty has the effect of forcing some of the coefficient estimates to be exactly equal to zero when the tuning parameter $\\lambda$ is sufficiently large. \n",
    "\n",
    "- Hence the lasso can be used for feature selection. As a result, models generated from the lasso are generally much easier to interpret than those produced by ridge regression."
   ]
  },
  {
   "cell_type": "markdown",
   "metadata": {},
   "source": [
    "<p><a name=\"lasso-sklearn\"></a></p>\n",
    "### Lasso in Scikit-Learn\n",
    "\n",
    "The objective function of **Lasso** in python is:\n",
    "$$\\min_{\\theta} \\frac{1}{2n} \\parallel X\\theta - y \\parallel_2^2 + \\alpha | \\theta |_1$$\n",
    "where $n$ refers to the number of observations.\n",
    "\n",
    "- In lasso the sum of squares of residuals is multiplied by a constant $\\frac{1}{2n}$\n",
    "- The constant does not impact the optimal coefficient\n",
    "- The parameter $\\alpha$ is again used to control the effects of the regularization term.\n",
    "\n",
    "Implementing `Lasso` is similar to ridge regression:"
   ]
  },
  {
   "cell_type": "code",
   "execution_count": 12,
   "metadata": {},
   "outputs": [
    {
     "data": {
      "text/plain": [
       "(array([0.04566142, 0.1834644 , 0.        ]), 3.0402155834803786)"
      ]
     },
     "execution_count": 12,
     "metadata": {},
     "output_type": "execute_result"
    }
   ],
   "source": [
    "## coefficients\n",
    "lasso = linear_model.Lasso(alpha=1) # create a lasso instance\n",
    "lasso.fit(x, y) # fit data\n",
    "lasso.coef_, lasso.intercept_ # print out the coefficients"
   ]
  },
  {
   "cell_type": "markdown",
   "metadata": {},
   "source": [
    "Note that the third coefficient is exactly 0!"
   ]
  },
  {
   "cell_type": "code",
   "execution_count": 13,
   "metadata": {},
   "outputs": [
    {
     "name": "stdout",
     "output_type": "stream",
     "text": [
      "The determination of ridge regression is: 0.8970\n"
     ]
    }
   ],
   "source": [
    "## determination\n",
    "print(\"The determination of ridge regression is: %.4f\" %lasso.score(x, y))"
   ]
  },
  {
   "cell_type": "code",
   "execution_count": 14,
   "metadata": {},
   "outputs": [
    {
     "data": {
      "text/plain": [
       "array([6.6717463])"
      ]
     },
     "execution_count": 14,
     "metadata": {},
     "output_type": "execute_result"
    }
   ],
   "source": [
    "## prediction\n",
    "lasso.predict([[5.2, 18.5, 3.7]])"
   ]
  },
  {
   "cell_type": "markdown",
   "metadata": {},
   "source": [
    "- Here we perform lasso on the advertise data. We first create a list of $\\alpha$"
   ]
  },
  {
   "cell_type": "code",
   "execution_count": 15,
   "metadata": {},
   "outputs": [],
   "source": [
    "alphas_lasso = np.logspace(-2, 4, 100)\n",
    "coef_lasso = []"
   ]
  },
  {
   "cell_type": "markdown",
   "metadata": {},
   "source": [
    "- Write a for loop to train an lasso regression for each α in the alphas_lasso. Collect the resulted coefficients into coef_lasso"
   ]
  },
  {
   "cell_type": "code",
   "execution_count": 16,
   "metadata": {},
   "outputs": [],
   "source": [
    "for i in alphas_lasso:\n",
    "    lasso.set_params(alpha=i).fit(x, y)\n",
    "    coef_lasso.append(lasso.coef_)"
   ]
  },
  {
   "cell_type": "code",
   "execution_count": 17,
   "metadata": {},
   "outputs": [
    {
     "data": {
      "image/png": "[encoded data removed]",
      "text/plain": [
       "<matplotlib.figure.Figure at 0x28e5cc49438>"
      ]
     },
     "metadata": {},
     "output_type": "display_data"
    }
   ],
   "source": [
    "columns = ['TV', 'Radio', 'Newspaper']\n",
    "df_coef = pd.DataFrame(coef_lasso, index=alphas_lasso, columns=columns)\n",
    "title = 'Lasso coefficients as a function of the regularization'\n",
    "df_coef.plot(logx=True, title=title)\n",
    "plt.xlabel('alpha')\n",
    "plt.ylabel('coefficients')\n",
    "plt.show()"
   ]
  },
  {
   "cell_type": "markdown",
   "metadata": {},
   "source": [
    "Another example of using lasso:"
   ]
  },
  {
   "cell_type": "code",
   "execution_count": 18,
   "metadata": {},
   "outputs": [
    {
     "data": {
      "image/png": "[encoded data removed]",
      "text/plain": [
       "<matplotlib.figure.Figure at 0x28e5dd4c3c8>"
      ]
     },
     "metadata": {},
     "output_type": "display_data"
    }
   ],
   "source": [
    "alphas_lasso = np.logspace(-4, 2, 100)\n",
    "coef_lasso = []\n",
    "for i in alphas_lasso:\n",
    "    lasso.set_params(alpha = i).fit(iris.x, iris.y)\n",
    "    coef_lasso.append(lasso.coef_)\n",
    "\n",
    "columns = [\"Sepal Length\", \"Sepal Width\", \"Petal Length\"]\n",
    "df_coef = pd.DataFrame(coef_lasso, index=alphas_lasso, columns=columns)\n",
    "title = 'Lasso coefficients as a function of the regularization'\n",
    "df_coef.plot(logx=True, title=title)\n",
    "plt.xlabel('alpha')\n",
    "plt.ylabel('coefficients')\n",
    "plt.show()"
   ]
  },
  {
   "cell_type": "markdown",
   "metadata": {},
   "source": [
    "### Ridge v.s. Lasso\n",
    "\n",
    "![l1vsl2](pic/l1vsl2.png)\n",
    "\n",
    "Comparing the path of ridge with the path of lasso:\n",
    "\n",
    "- In ridge regression, all the coefficients tend to reach 0 at the same time.\n",
    "- In lasso, the coefficients tend towards 0 one by one.\n",
    "- Lasso selects features with th eappropriate penalty."
   ]
  },
  {
   "cell_type": "markdown",
   "metadata": {},
   "source": [
    "<img src=\"http://jamesmccammondotcom.files.wordpress.com/2014/04/screen-shot-2014-04-19-at-11-19-00-pm.png?w=1200\" style=\"width: 300px;\">\n",
    "This picture comes from [An Introduction to Statistical Learning](http://www-bcf.usc.edu/~gareth/ISL/)"
   ]
  },
  {
   "cell_type": "markdown",
   "metadata": {},
   "source": [
    "**Which one to use?**\n",
    "\n",
    "- Neither ridge regression nor lasso will universally dominate the other.\n",
    "\n",
    "- In general, one might expect lasso to perform better when the response is a function of only a relatively small number of predictors. However, the number of predictors that is related to the response is never known.\n",
    "\n",
    "- A technique such as cross-validation can be used in order to determine which approach is better on a particular data set.\n"
   ]
  },
  {
   "cell_type": "markdown",
   "metadata": {},
   "source": [
    "<p><a name=\"elastic\"></a></p>\n",
    "### ElasticNet\n",
    "\n",
    "- ElasticNet is a linear regression model that combines L1 with L2 regularization \n",
    "- This combination allows for learning a sparse model where few of the weights are non-zero like Lasso, while still maintaining the regularization properties of Ridge. \n",
    "- ElasticNet is useful when there are multiple features correlated with one another."
   ]
  },
  {
   "cell_type": "markdown",
   "metadata": {},
   "source": [
    "<p><a name=\"elastic-sklearn\"></a></p>\n",
    "\n",
    "### ElasticNet in Scikit-Learn\n",
    "\n",
    "Here is the objective function of ElasticNet:\n",
    "$$\\min_{\\theta} \\frac{1}{2n} \\parallel X\\theta - y \\parallel_2^2 + \\alpha \\rho | \\theta |_1 + \\frac{\\alpha(1-\\rho)}{2} \\parallel \\theta \\parallel_2^2$$\n",
    "where $n$ refers to the number of observations, and $0 \\le \\rho \\le1$.\n",
    "\n",
    "- $\\alpha$ controls the effects of regularization.\n",
    "- $\\rho$ control the convex combination of L1 and L2. \n",
    "    - $\\rho = 0$ degenerates back to ridge regression\n",
    "    - $\\rho = 1$ degenerates back to lasso"
   ]
  },
  {
   "cell_type": "code",
   "execution_count": 22,
   "metadata": {},
   "outputs": [
    {
     "data": {
      "text/plain": [
       "(array([ 0.04570901,  0.18530658, -0.        ]), 2.990360061819066)"
      ]
     },
     "execution_count": 22,
     "metadata": {},
     "output_type": "execute_result"
    }
   ],
   "source": [
    "## coefficients\n",
    "elastic = linear_model.ElasticNet(alpha = 1, l1_ratio = 0.5)\n",
    "elastic.fit(x, y) # fit model\n",
    "elastic.coef_, elastic.intercept_ # coefficients"
   ]
  },
  {
   "cell_type": "markdown",
   "metadata": {},
   "source": [
    "- The argument *alpha* corresponds to $\\alpha$.\n",
    "- The argument *l1_radio* corresponds to $\\rho$."
   ]
  },
  {
   "cell_type": "code",
   "execution_count": 23,
   "metadata": {},
   "outputs": [
    {
     "name": "stdout",
     "output_type": "stream",
     "text": [
      "The determination of ElasticNet is: 0.8971\n"
     ]
    }
   ],
   "source": [
    "## determination\n",
    "print(\"The determination of ElasticNet is: %.4f\" %elastic.score(x, y))"
   ]
  },
  {
   "cell_type": "code",
   "execution_count": 24,
   "metadata": {},
   "outputs": [
    {
     "data": {
      "text/plain": [
       "array([6.65621868])"
      ]
     },
     "execution_count": 24,
     "metadata": {},
     "output_type": "execute_result"
    }
   ],
   "source": [
    "## prediction\n",
    "elastic.predict([[5.2, 18.5, 3.7]])"
   ]
  },
  {
   "cell_type": "markdown",
   "metadata": {},
   "source": [
    "The path of ElasticNet:"
   ]
  },
  {
   "cell_type": "markdown",
   "metadata": {},
   "source": [
    "- Here we perform ElasticNet on the advertise data. We first create a list of $\\alpha$"
   ]
  },
  {
   "cell_type": "code",
   "execution_count": 25,
   "metadata": {},
   "outputs": [],
   "source": [
    "alphas_elastic = np.logspace(-2, 4, 1000)\n",
    "coef_elastic = []"
   ]
  },
  {
   "cell_type": "markdown",
   "metadata": {},
   "source": [
    "- Write a for loop to train an lasso regression for each α in the alphas_lasso. Collect the resulted coefficients into coef_lasso"
   ]
  },
  {
   "cell_type": "code",
   "execution_count": 26,
   "metadata": {},
   "outputs": [],
   "source": [
    "for i in alphas_elastic:\n",
    "    elastic = linear_model.ElasticNet(l1_ratio =0.5)\n",
    "    elastic.set_params(alpha = i)\n",
    "    elastic.fit(x, y)\n",
    "    coef_elastic.append(elastic.coef_)"
   ]
  },
  {
   "cell_type": "code",
   "execution_count": 27,
   "metadata": {},
   "outputs": [
    {
     "data": {
      "image/png": "[encoded data removed]",
      "text/plain": [
       "<matplotlib.figure.Figure at 0x28e5cd3ca20>"
      ]
     },
     "metadata": {},
     "output_type": "display_data"
    }
   ],
   "source": [
    "columns = ['TV', 'Radio', 'Newspaper']\n",
    "df_coef = pd.DataFrame(coef_elastic, index=alphas_elastic, columns=columns)\n",
    "title = 'Lasso coefficients as a function of the regularization'\n",
    "df_coef.plot(logx=True, title=title)\n",
    "plt.xlabel('alpha')\n",
    "plt.ylabel('coefficients')\n",
    "plt.show()"
   ]
  },
  {
   "cell_type": "markdown",
   "metadata": {},
   "source": [
    "<p><a name=\"grid\"></a></p>\n",
    "## Grid Search\n",
    "- Linear regression with regularization was a specific algorithm to speed up the computation. \n",
    "- For parameters in the other models, we can only try all the possible values and then choose the best one.\n",
    "- The grid search provided by **GridSearchCV** exhaustively generates candidates from a grid of parameter values specified.\n",
    "- The **GridSearchCV** instance implements the usual estimator API: when “fitting” it on a dataset all the possible combinations of parameter values are evaluated and the best combination is retained.\n",
    "\n",
    "Search the best parameter for **KNN**:"
   ]
  },
  {
   "cell_type": "code",
   "execution_count": 28,
   "metadata": {},
   "outputs": [],
   "source": [
    "from sklearn import neighbors\n",
    "knn = neighbors.KNeighborsClassifier()"
   ]
  },
  {
   "cell_type": "code",
   "execution_count": 29,
   "metadata": {},
   "outputs": [],
   "source": [
    "from sklearn.model_selection import GridSearchCV\n",
    "from sklearn import datasets\n",
    "iris = datasets.load_iris()\n",
    "## set the possible parameters from 3 to 30\n",
    "\n",
    "grid_param = [{'n_neighbors': range(3, 31)}]\n",
    "## fit all models\n",
    "para_search = GridSearchCV(estimator=knn, param_grid=grid_param, scoring='accuracy', cv=5).fit(iris.data, iris.target)"
   ]
  },
  {
   "cell_type": "markdown",
   "metadata": {},
   "source": [
    "- Fit model on the iris data set.\n",
    "- In this case, we perform 5-fold cross validation, which is defined by *cv=5*.\n",
    "- Choose the best parameter by the accuracy of the models.\n",
    "- The parameter 'n_neighbors' ranges in [3, 4, 5, ..., 30].\n"
   ]
  },
  {
   "cell_type": "markdown",
   "metadata": {},
   "source": [
    "The **cv\\_results\\_** attributes stores scores and many other values from the grid search:"
   ]
  },
  {
   "cell_type": "code",
   "execution_count": 30,
   "metadata": {},
   "outputs": [
    {
     "name": "stderr",
     "output_type": "stream",
     "text": [
      "C:\\Users\\mlu\\AppData\\Local\\Continuum\\anaconda3\\lib\\site-packages\\sklearn\\utils\\deprecation.py:122: FutureWarning: You are accessing a training score ('mean_train_score'), which will not be available by default any more in 0.21. If you need training scores, please set return_train_score=True\n",
      "  warnings.warn(*warn_args, **warn_kwargs)\n",
      "C:\\Users\\mlu\\AppData\\Local\\Continuum\\anaconda3\\lib\\site-packages\\sklearn\\utils\\deprecation.py:122: FutureWarning: You are accessing a training score ('split0_train_score'), which will not be available by default any more in 0.21. If you need training scores, please set return_train_score=True\n",
      "  warnings.warn(*warn_args, **warn_kwargs)\n",
      "C:\\Users\\mlu\\AppData\\Local\\Continuum\\anaconda3\\lib\\site-packages\\sklearn\\utils\\deprecation.py:122: FutureWarning: You are accessing a training score ('split1_train_score'), which will not be available by default any more in 0.21. If you need training scores, please set return_train_score=True\n",
      "  warnings.warn(*warn_args, **warn_kwargs)\n",
      "C:\\Users\\mlu\\AppData\\Local\\Continuum\\anaconda3\\lib\\site-packages\\sklearn\\utils\\deprecation.py:122: FutureWarning: You are accessing a training score ('split2_train_score'), which will not be available by default any more in 0.21. If you need training scores, please set return_train_score=True\n",
      "  warnings.warn(*warn_args, **warn_kwargs)\n",
      "C:\\Users\\mlu\\AppData\\Local\\Continuum\\anaconda3\\lib\\site-packages\\sklearn\\utils\\deprecation.py:122: FutureWarning: You are accessing a training score ('split3_train_score'), which will not be available by default any more in 0.21. If you need training scores, please set return_train_score=True\n",
      "  warnings.warn(*warn_args, **warn_kwargs)\n",
      "C:\\Users\\mlu\\AppData\\Local\\Continuum\\anaconda3\\lib\\site-packages\\sklearn\\utils\\deprecation.py:122: FutureWarning: You are accessing a training score ('split4_train_score'), which will not be available by default any more in 0.21. If you need training scores, please set return_train_score=True\n",
      "  warnings.warn(*warn_args, **warn_kwargs)\n",
      "C:\\Users\\mlu\\AppData\\Local\\Continuum\\anaconda3\\lib\\site-packages\\sklearn\\utils\\deprecation.py:122: FutureWarning: You are accessing a training score ('std_train_score'), which will not be available by default any more in 0.21. If you need training scores, please set return_train_score=True\n",
      "  warnings.warn(*warn_args, **warn_kwargs)\n"
     ]
    },
    {
     "data": {
      "text/plain": [
       "{'mean_fit_time': array([0.00059681, 0.00040021, 0.00040174, 0.0003984 , 0.00060143,\n",
       "        0.00040097, 0.00040112, 0.00040107, 0.00040159, 0.00020046,\n",
       "        0.00020108, 0.00020041, 0.00020051, 0.00020056, 0.00020051,\n",
       "        0.00040092, 0.0004076 , 0.00019951, 0.        , 0.00020027,\n",
       "        0.00020022, 0.00020027, 0.00040102, 0.        , 0.00020046,\n",
       "        0.0002007 , 0.00020046, 0.        ]),\n",
       " 'mean_score_time': array([0.00020084, 0.00060921, 0.00040078, 0.0006001 , 0.00020051,\n",
       "        0.00060182, 0.00060158, 0.00040073, 0.00020056, 0.00060234,\n",
       "        0.00060444, 0.00040102, 0.00060186, 0.00040445, 0.00040116,\n",
       "        0.00039983, 0.0004046 , 0.00040131, 0.00080509, 0.00059948,\n",
       "        0.00060153, 0.00060191, 0.00080576, 0.00080295, 0.00060844,\n",
       "        0.00059628, 0.00060859, 0.00040097]),\n",
       " 'mean_test_score': array([0.96666667, 0.97333333, 0.97333333, 0.98      , 0.98      ,\n",
       "        0.96666667, 0.97333333, 0.98      , 0.98      , 0.98      ,\n",
       "        0.97333333, 0.96666667, 0.96666667, 0.96666667, 0.96666667,\n",
       "        0.96666667, 0.96666667, 0.96      , 0.96666667, 0.96      ,\n",
       "        0.96      , 0.94666667, 0.96      , 0.94666667, 0.94666667,\n",
       "        0.94      , 0.93333333, 0.94      ]),\n",
       " 'mean_train_score': array([0.96      , 0.96333333, 0.97      , 0.97333333, 0.97333333,\n",
       "        0.98      , 0.97833333, 0.97333333, 0.975     , 0.975     ,\n",
       "        0.97833333, 0.97666667, 0.97666667, 0.975     , 0.975     ,\n",
       "        0.975     , 0.97333333, 0.96666667, 0.96833333, 0.96333333,\n",
       "        0.96333333, 0.95666667, 0.96      , 0.955     , 0.95666667,\n",
       "        0.95166667, 0.95333333, 0.95      ]),\n",
       " 'param_n_neighbors': masked_array(data=[3, 4, 5, 6, 7, 8, 9, 10, 11, 12, 13, 14, 15, 16, 17,\n",
       "                    18, 19, 20, 21, 22, 23, 24, 25, 26, 27, 28, 29, 30],\n",
       "              mask=[False, False, False, False, False, False, False, False,\n",
       "                    False, False, False, False, False, False, False, False,\n",
       "                    False, False, False, False, False, False, False, False,\n",
       "                    False, False, False, False],\n",
       "        fill_value='?',\n",
       "             dtype=object),\n",
       " 'params': [{'n_neighbors': 3},\n",
       "  {'n_neighbors': 4},\n",
       "  {'n_neighbors': 5},\n",
       "  {'n_neighbors': 6},\n",
       "  {'n_neighbors': 7},\n",
       "  {'n_neighbors': 8},\n",
       "  {'n_neighbors': 9},\n",
       "  {'n_neighbors': 10},\n",
       "  {'n_neighbors': 11},\n",
       "  {'n_neighbors': 12},\n",
       "  {'n_neighbors': 13},\n",
       "  {'n_neighbors': 14},\n",
       "  {'n_neighbors': 15},\n",
       "  {'n_neighbors': 16},\n",
       "  {'n_neighbors': 17},\n",
       "  {'n_neighbors': 18},\n",
       "  {'n_neighbors': 19},\n",
       "  {'n_neighbors': 20},\n",
       "  {'n_neighbors': 21},\n",
       "  {'n_neighbors': 22},\n",
       "  {'n_neighbors': 23},\n",
       "  {'n_neighbors': 24},\n",
       "  {'n_neighbors': 25},\n",
       "  {'n_neighbors': 26},\n",
       "  {'n_neighbors': 27},\n",
       "  {'n_neighbors': 28},\n",
       "  {'n_neighbors': 29},\n",
       "  {'n_neighbors': 30}],\n",
       " 'rank_test_score': array([10,  6,  6,  1,  1, 10,  6,  1,  1,  1,  6, 10, 10, 10, 10, 10, 10,\n",
       "        19, 10, 19, 19, 23, 19, 23, 23, 26, 28, 26]),\n",
       " 'split0_test_score': array([0.96666667, 0.96666667, 0.96666667, 0.96666667, 0.96666667,\n",
       "        0.96666667, 0.96666667, 0.96666667, 0.93333333, 0.93333333,\n",
       "        0.93333333, 0.93333333, 0.93333333, 0.93333333, 0.93333333,\n",
       "        0.93333333, 0.93333333, 0.93333333, 0.93333333, 0.93333333,\n",
       "        0.93333333, 0.93333333, 0.93333333, 0.93333333, 0.9       ,\n",
       "        0.9       , 0.9       , 0.9       ]),\n",
       " 'split0_train_score': array([0.95833333, 0.95833333, 0.96666667, 0.96666667, 0.96666667,\n",
       "        0.975     , 0.975     , 0.975     , 0.98333333, 0.98333333,\n",
       "        0.98333333, 0.98333333, 0.98333333, 0.98333333, 0.98333333,\n",
       "        0.98333333, 0.98333333, 0.98333333, 0.96666667, 0.975     ,\n",
       "        0.975     , 0.975     , 0.975     , 0.975     , 0.96666667,\n",
       "        0.95      , 0.95833333, 0.95833333]),\n",
       " 'split1_test_score': array([0.96666667, 0.96666667, 1.        , 1.        , 1.        ,\n",
       "        1.        , 1.        , 1.        , 1.        , 1.        ,\n",
       "        1.        , 1.        , 1.        , 1.        , 1.        ,\n",
       "        1.        , 1.        , 1.        , 1.        , 1.        ,\n",
       "        1.        , 0.96666667, 0.96666667, 0.96666667, 0.96666667,\n",
       "        0.96666667, 0.96666667, 0.96666667]),\n",
       " 'split1_train_score': array([0.95833333, 0.95833333, 0.96666667, 0.975     , 0.96666667,\n",
       "        0.98333333, 0.98333333, 0.975     , 0.975     , 0.975     ,\n",
       "        0.975     , 0.975     , 0.975     , 0.98333333, 0.96666667,\n",
       "        0.98333333, 0.975     , 0.95833333, 0.975     , 0.94166667,\n",
       "        0.95      , 0.94166667, 0.95      , 0.93333333, 0.94166667,\n",
       "        0.94166667, 0.94166667, 0.93333333]),\n",
       " 'split2_test_score': array([0.93333333, 0.96666667, 0.93333333, 0.96666667, 0.96666667,\n",
       "        0.93333333, 0.96666667, 1.        , 1.        , 1.        ,\n",
       "        0.96666667, 0.96666667, 0.93333333, 0.93333333, 0.93333333,\n",
       "        0.96666667, 0.93333333, 0.93333333, 0.93333333, 0.93333333,\n",
       "        0.93333333, 0.9       , 0.93333333, 0.93333333, 0.93333333,\n",
       "        0.93333333, 0.9       , 0.93333333]),\n",
       " 'split2_train_score': array([0.96666667, 0.95833333, 0.975     , 0.975     , 0.975     ,\n",
       "        0.975     , 0.975     , 0.975     , 0.975     , 0.975     ,\n",
       "        0.975     , 0.975     , 0.98333333, 0.975     , 0.98333333,\n",
       "        0.975     , 0.975     , 0.975     , 0.975     , 0.95833333,\n",
       "        0.95833333, 0.95833333, 0.96666667, 0.96666667, 0.96666667,\n",
       "        0.95833333, 0.95833333, 0.95833333]),\n",
       " 'split3_test_score': array([0.96666667, 0.96666667, 0.96666667, 0.96666667, 0.96666667,\n",
       "        0.93333333, 0.93333333, 0.93333333, 0.96666667, 0.96666667,\n",
       "        0.96666667, 0.93333333, 0.96666667, 0.96666667, 0.96666667,\n",
       "        0.93333333, 0.96666667, 0.93333333, 0.96666667, 0.93333333,\n",
       "        0.93333333, 0.93333333, 0.96666667, 0.9       , 0.93333333,\n",
       "        0.9       , 0.9       , 0.9       ]),\n",
       " 'split3_train_score': array([0.96666667, 0.975     , 0.975     , 0.98333333, 0.98333333,\n",
       "        0.99166667, 0.98333333, 0.98333333, 0.975     , 0.98333333,\n",
       "        0.98333333, 0.98333333, 0.975     , 0.98333333, 0.98333333,\n",
       "        0.98333333, 0.98333333, 0.975     , 0.975     , 0.99166667,\n",
       "        0.98333333, 0.975     , 0.96666667, 0.96666667, 0.96666667,\n",
       "        0.96666667, 0.96666667, 0.96666667]),\n",
       " 'split4_test_score': array([1., 1., 1., 1., 1., 1., 1., 1., 1., 1., 1., 1., 1., 1., 1., 1., 1.,\n",
       "        1., 1., 1., 1., 1., 1., 1., 1., 1., 1., 1.]),\n",
       " 'split4_train_score': array([0.95      , 0.96666667, 0.96666667, 0.96666667, 0.975     ,\n",
       "        0.975     , 0.975     , 0.95833333, 0.96666667, 0.95833333,\n",
       "        0.975     , 0.96666667, 0.96666667, 0.95      , 0.95833333,\n",
       "        0.95      , 0.95      , 0.94166667, 0.95      , 0.95      ,\n",
       "        0.95      , 0.93333333, 0.94166667, 0.93333333, 0.94166667,\n",
       "        0.94166667, 0.94166667, 0.93333333]),\n",
       " 'std_fit_time': array([0.00048736, 0.00049016, 0.00049202, 0.00048795, 0.00049107,\n",
       "        0.00049109, 0.00049126, 0.00049121, 0.00049185, 0.00040092,\n",
       "        0.00040216, 0.00040083, 0.00040102, 0.00040112, 0.00040102,\n",
       "        0.00049103, 0.00049931, 0.00039902, 0.        , 0.00040054,\n",
       "        0.00040045, 0.00040054, 0.00049115, 0.        , 0.00040092,\n",
       "        0.0004014 , 0.00040092, 0.        ]),\n",
       " 'std_score_time': array([0.00040169, 0.00049744, 0.00049086, 0.00048999, 0.00040102,\n",
       "        0.00049138, 0.00049119, 0.0004908 , 0.00040112, 0.00049181,\n",
       "        0.00049355, 0.00049115, 0.00049143, 0.00049536, 0.00049132,\n",
       "        0.00048969, 0.00049573, 0.0004915 , 0.0004026 , 0.00048976,\n",
       "        0.00049151, 0.00049182, 0.00040291, 0.00040148, 0.00049691,\n",
       "        0.00048697, 0.00049704, 0.00049109]),\n",
       " 'std_test_score': array([0.02108185, 0.01333333, 0.02494438, 0.01632993, 0.01632993,\n",
       "        0.02981424, 0.02494438, 0.02666667, 0.02666667, 0.02666667,\n",
       "        0.02494438, 0.02981424, 0.02981424, 0.02981424, 0.02981424,\n",
       "        0.02981424, 0.02981424, 0.03265986, 0.02981424, 0.03265986,\n",
       "        0.03265986, 0.03399346, 0.02494438, 0.03399346, 0.03399346,\n",
       "        0.03887301, 0.0421637 , 0.03887301]),\n",
       " 'std_train_score': array([0.0062361 , 0.00666667, 0.00408248, 0.0062361 , 0.0062361 ,\n",
       "        0.00666667, 0.00408248, 0.00816497, 0.00527046, 0.00912871,\n",
       "        0.00408248, 0.0062361 , 0.0062361 , 0.01290994, 0.01054093,\n",
       "        0.01290994, 0.01224745, 0.01490712, 0.00971825, 0.01795055,\n",
       "        0.01354006, 0.01699673, 0.01224745, 0.01795055, 0.01224745,\n",
       "        0.00971825, 0.01      , 0.01394433])}"
      ]
     },
     "execution_count": 30,
     "metadata": {},
     "output_type": "execute_result"
    }
   ],
   "source": [
    "para_search.cv_results_"
   ]
  },
  {
   "cell_type": "markdown",
   "metadata": {},
   "source": [
    "Before scikit-learn 0.18, the **grid\\_scores\\_** was the primary attribute to get scores for all parameters:"
   ]
  },
  {
   "cell_type": "code",
   "execution_count": 31,
   "metadata": {},
   "outputs": [
    {
     "name": "stderr",
     "output_type": "stream",
     "text": [
      "C:\\Users\\mlu\\AppData\\Local\\Continuum\\anaconda3\\lib\\site-packages\\sklearn\\model_selection\\_search.py:761: DeprecationWarning: The grid_scores_ attribute was deprecated in version 0.18 in favor of the more elaborate cv_results_ attribute. The grid_scores_ attribute will not be available from 0.20\n",
      "  DeprecationWarning)\n"
     ]
    },
    {
     "data": {
      "text/plain": [
       "[mean: 0.96667, std: 0.02108, params: {'n_neighbors': 3},\n",
       " mean: 0.97333, std: 0.01333, params: {'n_neighbors': 4},\n",
       " mean: 0.97333, std: 0.02494, params: {'n_neighbors': 5},\n",
       " mean: 0.98000, std: 0.01633, params: {'n_neighbors': 6},\n",
       " mean: 0.98000, std: 0.01633, params: {'n_neighbors': 7},\n",
       " mean: 0.96667, std: 0.02981, params: {'n_neighbors': 8},\n",
       " mean: 0.97333, std: 0.02494, params: {'n_neighbors': 9},\n",
       " mean: 0.98000, std: 0.02667, params: {'n_neighbors': 10},\n",
       " mean: 0.98000, std: 0.02667, params: {'n_neighbors': 11},\n",
       " mean: 0.98000, std: 0.02667, params: {'n_neighbors': 12},\n",
       " mean: 0.97333, std: 0.02494, params: {'n_neighbors': 13},\n",
       " mean: 0.96667, std: 0.02981, params: {'n_neighbors': 14},\n",
       " mean: 0.96667, std: 0.02981, params: {'n_neighbors': 15},\n",
       " mean: 0.96667, std: 0.02981, params: {'n_neighbors': 16},\n",
       " mean: 0.96667, std: 0.02981, params: {'n_neighbors': 17},\n",
       " mean: 0.96667, std: 0.02981, params: {'n_neighbors': 18},\n",
       " mean: 0.96667, std: 0.02981, params: {'n_neighbors': 19},\n",
       " mean: 0.96000, std: 0.03266, params: {'n_neighbors': 20},\n",
       " mean: 0.96667, std: 0.02981, params: {'n_neighbors': 21},\n",
       " mean: 0.96000, std: 0.03266, params: {'n_neighbors': 22},\n",
       " mean: 0.96000, std: 0.03266, params: {'n_neighbors': 23},\n",
       " mean: 0.94667, std: 0.03399, params: {'n_neighbors': 24},\n",
       " mean: 0.96000, std: 0.02494, params: {'n_neighbors': 25},\n",
       " mean: 0.94667, std: 0.03399, params: {'n_neighbors': 26},\n",
       " mean: 0.94667, std: 0.03399, params: {'n_neighbors': 27},\n",
       " mean: 0.94000, std: 0.03887, params: {'n_neighbors': 28},\n",
       " mean: 0.93333, std: 0.04216, params: {'n_neighbors': 29},\n",
       " mean: 0.94000, std: 0.03887, params: {'n_neighbors': 30}]"
      ]
     },
     "execution_count": 31,
     "metadata": {},
     "output_type": "execute_result"
    }
   ],
   "source": [
    "para_search.grid_scores_"
   ]
  },
  {
   "cell_type": "markdown",
   "metadata": {},
   "source": [
    "- **best\\_score\\_**: Score of best_estimator on the hold out data.\n",
    "- **best\\_params\\_**: Parameter setting that gave the best results on the hold out data."
   ]
  },
  {
   "cell_type": "code",
   "execution_count": 32,
   "metadata": {},
   "outputs": [
    {
     "name": "stdout",
     "output_type": "stream",
     "text": [
      "0.98\n",
      "{'n_neighbors': 6}\n"
     ]
    }
   ],
   "source": [
    "print(para_search.best_score_)\n",
    "print(para_search.best_params_)"
   ]
  },
  {
   "cell_type": "markdown",
   "metadata": {},
   "source": [
    "The best parameter here is 6, and the corresponding accuracy is 98%."
   ]
  },
  {
   "cell_type": "markdown",
   "metadata": {},
   "source": [
    "- At last, we implement KNN with the best parameter on the whole data set.\n",
    "- **best\\_estimator\\_** : Estimator that was chosen by the search, i.e. estimator which gave highest score on the hold out data."
   ]
  },
  {
   "cell_type": "code",
   "execution_count": 33,
   "metadata": {},
   "outputs": [
    {
     "data": {
      "text/plain": [
       "KNeighborsClassifier(algorithm='auto', leaf_size=30, metric='minkowski',\n",
       "           metric_params=None, n_jobs=1, n_neighbors=6, p=2,\n",
       "           weights='uniform')"
      ]
     },
     "execution_count": 33,
     "metadata": {},
     "output_type": "execute_result"
    }
   ],
   "source": [
    "para_search.best_estimator_"
   ]
  },
  {
   "cell_type": "code",
   "execution_count": 34,
   "metadata": {},
   "outputs": [
    {
     "data": {
      "text/plain": [
       "0.9733333333333334"
      ]
     },
     "execution_count": 34,
     "metadata": {},
     "output_type": "execute_result"
    }
   ],
   "source": [
    "knn_best = para_search.best_estimator_\n",
    "knn_best.fit(iris.data, iris.target)\n",
    "knn_best.score(iris.data, iris.target)"
   ]
  },
  {
   "cell_type": "markdown",
   "metadata": {},
   "source": [
    "Here is a more complicated case:\n",
    "- Set the 'weights' parameter to be 'uniform' or 'distance'.\n",
    "- Set the parameter 'n_neighbors' to be 3 to 30.\n",
    "- Set 'p' may equals to 1 or 2.\n",
    "\n",
    "**GridSearchCV** will fit all the possible combinations of the parameters, and choose the best model by the accuracy with 5-fold cross-validation."
   ]
  },
  {
   "cell_type": "code",
   "execution_count": 35,
   "metadata": {},
   "outputs": [
    {
     "name": "stderr",
     "output_type": "stream",
     "text": [
      "C:\\Users\\mlu\\AppData\\Local\\Continuum\\anaconda3\\lib\\site-packages\\sklearn\\utils\\deprecation.py:122: FutureWarning: You are accessing a training score ('mean_train_score'), which will not be available by default any more in 0.21. If you need training scores, please set return_train_score=True\n",
      "  warnings.warn(*warn_args, **warn_kwargs)\n",
      "C:\\Users\\mlu\\AppData\\Local\\Continuum\\anaconda3\\lib\\site-packages\\sklearn\\utils\\deprecation.py:122: FutureWarning: You are accessing a training score ('split0_train_score'), which will not be available by default any more in 0.21. If you need training scores, please set return_train_score=True\n",
      "  warnings.warn(*warn_args, **warn_kwargs)\n",
      "C:\\Users\\mlu\\AppData\\Local\\Continuum\\anaconda3\\lib\\site-packages\\sklearn\\utils\\deprecation.py:122: FutureWarning: You are accessing a training score ('split1_train_score'), which will not be available by default any more in 0.21. If you need training scores, please set return_train_score=True\n",
      "  warnings.warn(*warn_args, **warn_kwargs)\n",
      "C:\\Users\\mlu\\AppData\\Local\\Continuum\\anaconda3\\lib\\site-packages\\sklearn\\utils\\deprecation.py:122: FutureWarning: You are accessing a training score ('split2_train_score'), which will not be available by default any more in 0.21. If you need training scores, please set return_train_score=True\n",
      "  warnings.warn(*warn_args, **warn_kwargs)\n",
      "C:\\Users\\mlu\\AppData\\Local\\Continuum\\anaconda3\\lib\\site-packages\\sklearn\\utils\\deprecation.py:122: FutureWarning: You are accessing a training score ('split3_train_score'), which will not be available by default any more in 0.21. If you need training scores, please set return_train_score=True\n",
      "  warnings.warn(*warn_args, **warn_kwargs)\n",
      "C:\\Users\\mlu\\AppData\\Local\\Continuum\\anaconda3\\lib\\site-packages\\sklearn\\utils\\deprecation.py:122: FutureWarning: You are accessing a training score ('split4_train_score'), which will not be available by default any more in 0.21. If you need training scores, please set return_train_score=True\n",
      "  warnings.warn(*warn_args, **warn_kwargs)\n",
      "C:\\Users\\mlu\\AppData\\Local\\Continuum\\anaconda3\\lib\\site-packages\\sklearn\\utils\\deprecation.py:122: FutureWarning: You are accessing a training score ('std_train_score'), which will not be available by default any more in 0.21. If you need training scores, please set return_train_score=True\n",
      "  warnings.warn(*warn_args, **warn_kwargs)\n"
     ]
    },
    {
     "data": {
      "text/plain": [
       "{'mean_fit_time': array([0.        , 0.00019503, 0.00020108, 0.00039549, 0.        ,\n",
       "        0.00080595, 0.00040078, 0.00061302, 0.00020032, 0.        ,\n",
       "        0.00020051, 0.00020041, 0.00020103, 0.        , 0.        ,\n",
       "        0.00060029, 0.00020061, 0.00039988, 0.00019517, 0.00019507,\n",
       "        0.00020003, 0.00019817, 0.00019617, 0.00040236, 0.00020051,\n",
       "        0.        , 0.00020051, 0.00040097, 0.00040178, 0.00060172,\n",
       "        0.00020003, 0.00019503, 0.00019498, 0.00020051, 0.00060983,\n",
       "        0.00020103, 0.00020065, 0.00080781, 0.0003983 , 0.00020056,\n",
       "        0.00040636, 0.00020051, 0.00060697, 0.00020008, 0.00020051,\n",
       "        0.00020056, 0.00040255, 0.00020056, 0.00020056, 0.00039554,\n",
       "        0.00020037, 0.        , 0.        , 0.00039492, 0.00020051,\n",
       "        0.        , 0.00019784, 0.00020032, 0.00020585, 0.0002007 ,\n",
       "        0.        , 0.        , 0.00020075, 0.0004055 , 0.00020041,\n",
       "        0.        , 0.00040617, 0.        , 0.00020037, 0.00020046,\n",
       "        0.00020075, 0.00020103, 0.00020051, 0.        , 0.00020075,\n",
       "        0.        , 0.00040674, 0.00020046, 0.00019922, 0.00020056,\n",
       "        0.00040588, 0.00020032, 0.00019488, 0.00020065, 0.00039563,\n",
       "        0.00020099, 0.00019994, 0.        , 0.00019989, 0.00040593,\n",
       "        0.        , 0.00020027, 0.00020041, 0.00040421, 0.00040092,\n",
       "        0.00060492, 0.00020075, 0.00020003, 0.00020881, 0.00080228,\n",
       "        0.00040054, 0.0002007 , 0.00040331, 0.00040302, 0.00060191,\n",
       "        0.0003952 , 0.00020881, 0.00040035, 0.00020866, 0.00019841,\n",
       "        0.00020094, 0.00020199]),\n",
       " 'mean_score_time': array([0.00059595, 0.00040121, 0.00039673, 0.00020075, 0.0010025 ,\n",
       "        0.00039616, 0.00040145, 0.00039544, 0.00039635, 0.00059648,\n",
       "        0.00040092, 0.00020037, 0.00040607, 0.00040054, 0.00060186,\n",
       "        0.00040221, 0.00059433, 0.0004005 , 0.00040164, 0.00040154,\n",
       "        0.00059943, 0.00040135, 0.00039945, 0.0002008 , 0.00060568,\n",
       "        0.00080237, 0.00039535, 0.00040112, 0.00060191, 0.00040107,\n",
       "        0.0006072 , 0.00040188, 0.00040097, 0.00040112, 0.00020113,\n",
       "        0.00060468, 0.00081005, 0.00019999, 0.00039706, 0.00060158,\n",
       "        0.00040264, 0.00059586, 0.00039515, 0.00040193, 0.00059733,\n",
       "        0.00040107, 0.0001996 , 0.00040107, 0.00060654, 0.00020103,\n",
       "        0.00061364, 0.00060062, 0.00060239, 0.00060172, 0.00040312,\n",
       "        0.00080242, 0.00040755, 0.00080781, 0.00059094, 0.00061345,\n",
       "        0.00059814, 0.00080466, 0.00059614, 0.00020022, 0.00020304,\n",
       "        0.0007906 , 0.00039644, 0.00060701, 0.00040126, 0.00040517,\n",
       "        0.0006022 , 0.00079732, 0.00040154, 0.00059524, 0.00040102,\n",
       "        0.00080919, 0.00040064, 0.00059605, 0.00060215, 0.00060191,\n",
       "        0.00039573, 0.00060124, 0.0003994 , 0.00060105, 0.00059862,\n",
       "        0.00060797, 0.00080786, 0.00098753, 0.00060186, 0.00099907,\n",
       "        0.00060816, 0.00079551, 0.00040841, 0.00079379, 0.00019999,\n",
       "        0.00040202, 0.00078669, 0.00060148, 0.00079846, 0.00060067,\n",
       "        0.00040126, 0.00080142, 0.00059285, 0.00059972, 0.00020032,\n",
       "        0.00080285, 0.0007935 , 0.00040092, 0.00078969, 0.00100675,\n",
       "        0.00060267, 0.00099964]),\n",
       " 'mean_test_score': array([0.96      , 0.96      , 0.96666667, 0.96666667, 0.95333333,\n",
       "        0.96      , 0.97333333, 0.96666667, 0.96      , 0.96      ,\n",
       "        0.97333333, 0.96666667, 0.95333333, 0.95333333, 0.98      ,\n",
       "        0.98      , 0.97333333, 0.96      , 0.98      , 0.98      ,\n",
       "        0.95333333, 0.96      , 0.96666667, 0.98      , 0.97333333,\n",
       "        0.96      , 0.97333333, 0.97333333, 0.97333333, 0.97333333,\n",
       "        0.98      , 0.98666667, 0.98      , 0.96666667, 0.98      ,\n",
       "        0.98666667, 0.97333333, 0.96666667, 0.98      , 0.98666667,\n",
       "        0.97333333, 0.96666667, 0.97333333, 0.98      , 0.97333333,\n",
       "        0.97333333, 0.96666667, 0.97333333, 0.97333333, 0.97333333,\n",
       "        0.96666667, 0.97333333, 0.96666667, 0.97333333, 0.96666667,\n",
       "        0.97333333, 0.96666667, 0.97333333, 0.96666667, 0.97333333,\n",
       "        0.96666667, 0.97333333, 0.96666667, 0.97333333, 0.97333333,\n",
       "        0.97333333, 0.96666667, 0.97333333, 0.97333333, 0.97333333,\n",
       "        0.96      , 0.97333333, 0.97333333, 0.97333333, 0.96666667,\n",
       "        0.97333333, 0.96      , 0.96      , 0.96      , 0.97333333,\n",
       "        0.96      , 0.96666667, 0.96      , 0.98      , 0.95333333,\n",
       "        0.96666667, 0.94666667, 0.98      , 0.96      , 0.96666667,\n",
       "        0.96      , 0.96666667, 0.94666667, 0.96      , 0.94666667,\n",
       "        0.96      , 0.95333333, 0.96      , 0.94666667, 0.97333333,\n",
       "        0.96666667, 0.96      , 0.94      , 0.96      , 0.94666667,\n",
       "        0.95333333, 0.93333333, 0.96666667, 0.94      , 0.95333333,\n",
       "        0.94      , 0.96      ]),\n",
       " 'mean_train_score': array([0.96      , 1.        , 0.96      , 1.        , 0.95666667,\n",
       "        1.        , 0.96333333, 1.        , 0.965     , 1.        ,\n",
       "        0.97      , 1.        , 0.96166667, 1.        , 0.97333333,\n",
       "        1.        , 0.96833333, 1.        , 0.97333333, 1.        ,\n",
       "        0.96333333, 1.        , 0.98      , 1.        , 0.97      ,\n",
       "        1.        , 0.97833333, 1.        , 0.96333333, 1.        ,\n",
       "        0.97333333, 1.        , 0.96      , 1.        , 0.975     ,\n",
       "        1.        , 0.955     , 1.        , 0.975     , 1.        ,\n",
       "        0.96666667, 1.        , 0.97833333, 1.        , 0.96333333,\n",
       "        1.        , 0.97666667, 1.        , 0.96833333, 1.        ,\n",
       "        0.97666667, 1.        , 0.96833333, 1.        , 0.975     ,\n",
       "        1.        , 0.975     , 1.        , 0.975     , 1.        ,\n",
       "        0.96833333, 1.        , 0.975     , 1.        , 0.97333333,\n",
       "        1.        , 0.97333333, 1.        , 0.96666667, 1.        ,\n",
       "        0.96666667, 1.        , 0.965     , 1.        , 0.96833333,\n",
       "        1.        , 0.96333333, 1.        , 0.96333333, 1.        ,\n",
       "        0.96166667, 1.        , 0.96333333, 1.        , 0.95666667,\n",
       "        1.        , 0.95666667, 1.        , 0.95833333, 1.        ,\n",
       "        0.96      , 1.        , 0.96      , 1.        , 0.955     ,\n",
       "        1.        , 0.96      , 1.        , 0.95666667, 1.        ,\n",
       "        0.96      , 1.        , 0.95166667, 1.        , 0.95666667,\n",
       "        1.        , 0.95333333, 1.        , 0.95666667, 1.        ,\n",
       "        0.95      , 1.        ]),\n",
       " 'param_n_neighbors': masked_array(data=[3, 3, 3, 3, 4, 4, 4, 4, 5, 5, 5, 5, 6, 6, 6, 6, 7, 7,\n",
       "                    7, 7, 8, 8, 8, 8, 9, 9, 9, 9, 10, 10, 10, 10, 11, 11,\n",
       "                    11, 11, 12, 12, 12, 12, 13, 13, 13, 13, 14, 14, 14, 14,\n",
       "                    15, 15, 15, 15, 16, 16, 16, 16, 17, 17, 17, 17, 18, 18,\n",
       "                    18, 18, 19, 19, 19, 19, 20, 20, 20, 20, 21, 21, 21, 21,\n",
       "                    22, 22, 22, 22, 23, 23, 23, 23, 24, 24, 24, 24, 25, 25,\n",
       "                    25, 25, 26, 26, 26, 26, 27, 27, 27, 27, 28, 28, 28, 28,\n",
       "                    29, 29, 29, 29, 30, 30, 30, 30],\n",
       "              mask=[False, False, False, False, False, False, False, False,\n",
       "                    False, False, False, False, False, False, False, False,\n",
       "                    False, False, False, False, False, False, False, False,\n",
       "                    False, False, False, False, False, False, False, False,\n",
       "                    False, False, False, False, False, False, False, False,\n",
       "                    False, False, False, False, False, False, False, False,\n",
       "                    False, False, False, False, False, False, False, False,\n",
       "                    False, False, False, False, False, False, False, False,\n",
       "                    False, False, False, False, False, False, False, False,\n",
       "                    False, False, False, False, False, False, False, False,\n",
       "                    False, False, False, False, False, False, False, False,\n",
       "                    False, False, False, False, False, False, False, False,\n",
       "                    False, False, False, False, False, False, False, False,\n",
       "                    False, False, False, False, False, False, False, False],\n",
       "        fill_value='?',\n",
       "             dtype=object),\n",
       " 'param_p': masked_array(data=[1, 1, 2, 2, 1, 1, 2, 2, 1, 1, 2, 2, 1, 1, 2, 2, 1, 1,\n",
       "                    2, 2, 1, 1, 2, 2, 1, 1, 2, 2, 1, 1, 2, 2, 1, 1, 2, 2,\n",
       "                    1, 1, 2, 2, 1, 1, 2, 2, 1, 1, 2, 2, 1, 1, 2, 2, 1, 1,\n",
       "                    2, 2, 1, 1, 2, 2, 1, 1, 2, 2, 1, 1, 2, 2, 1, 1, 2, 2,\n",
       "                    1, 1, 2, 2, 1, 1, 2, 2, 1, 1, 2, 2, 1, 1, 2, 2, 1, 1,\n",
       "                    2, 2, 1, 1, 2, 2, 1, 1, 2, 2, 1, 1, 2, 2, 1, 1, 2, 2,\n",
       "                    1, 1, 2, 2],\n",
       "              mask=[False, False, False, False, False, False, False, False,\n",
       "                    False, False, False, False, False, False, False, False,\n",
       "                    False, False, False, False, False, False, False, False,\n",
       "                    False, False, False, False, False, False, False, False,\n",
       "                    False, False, False, False, False, False, False, False,\n",
       "                    False, False, False, False, False, False, False, False,\n",
       "                    False, False, False, False, False, False, False, False,\n",
       "                    False, False, False, False, False, False, False, False,\n",
       "                    False, False, False, False, False, False, False, False,\n",
       "                    False, False, False, False, False, False, False, False,\n",
       "                    False, False, False, False, False, False, False, False,\n",
       "                    False, False, False, False, False, False, False, False,\n",
       "                    False, False, False, False, False, False, False, False,\n",
       "                    False, False, False, False, False, False, False, False],\n",
       "        fill_value='?',\n",
       "             dtype=object),\n",
       " 'param_weights': masked_array(data=['uniform', 'distance', 'uniform', 'distance',\n",
       "                    'uniform', 'distance', 'uniform', 'distance',\n",
       "                    'uniform', 'distance', 'uniform', 'distance',\n",
       "                    'uniform', 'distance', 'uniform', 'distance',\n",
       "                    'uniform', 'distance', 'uniform', 'distance',\n",
       "                    'uniform', 'distance', 'uniform', 'distance',\n",
       "                    'uniform', 'distance', 'uniform', 'distance',\n",
       "                    'uniform', 'distance', 'uniform', 'distance',\n",
       "                    'uniform', 'distance', 'uniform', 'distance',\n",
       "                    'uniform', 'distance', 'uniform', 'distance',\n",
       "                    'uniform', 'distance', 'uniform', 'distance',\n",
       "                    'uniform', 'distance', 'uniform', 'distance',\n",
       "                    'uniform', 'distance', 'uniform', 'distance',\n",
       "                    'uniform', 'distance', 'uniform', 'distance',\n",
       "                    'uniform', 'distance', 'uniform', 'distance',\n",
       "                    'uniform', 'distance', 'uniform', 'distance',\n",
       "                    'uniform', 'distance', 'uniform', 'distance',\n",
       "                    'uniform', 'distance', 'uniform', 'distance',\n",
       "                    'uniform', 'distance', 'uniform', 'distance',\n",
       "                    'uniform', 'distance', 'uniform', 'distance',\n",
       "                    'uniform', 'distance', 'uniform', 'distance',\n",
       "                    'uniform', 'distance', 'uniform', 'distance',\n",
       "                    'uniform', 'distance', 'uniform', 'distance',\n",
       "                    'uniform', 'distance', 'uniform', 'distance',\n",
       "                    'uniform', 'distance', 'uniform', 'distance',\n",
       "                    'uniform', 'distance', 'uniform', 'distance',\n",
       "                    'uniform', 'distance', 'uniform', 'distance',\n",
       "                    'uniform', 'distance', 'uniform', 'distance'],\n",
       "              mask=[False, False, False, False, False, False, False, False,\n",
       "                    False, False, False, False, False, False, False, False,\n",
       "                    False, False, False, False, False, False, False, False,\n",
       "                    False, False, False, False, False, False, False, False,\n",
       "                    False, False, False, False, False, False, False, False,\n",
       "                    False, False, False, False, False, False, False, False,\n",
       "                    False, False, False, False, False, False, False, False,\n",
       "                    False, False, False, False, False, False, False, False,\n",
       "                    False, False, False, False, False, False, False, False,\n",
       "                    False, False, False, False, False, False, False, False,\n",
       "                    False, False, False, False, False, False, False, False,\n",
       "                    False, False, False, False, False, False, False, False,\n",
       "                    False, False, False, False, False, False, False, False,\n",
       "                    False, False, False, False, False, False, False, False],\n",
       "        fill_value='?',\n",
       "             dtype=object),\n",
       " 'params': [{'n_neighbors': 3, 'p': 1, 'weights': 'uniform'},\n",
       "  {'n_neighbors': 3, 'p': 1, 'weights': 'distance'},\n",
       "  {'n_neighbors': 3, 'p': 2, 'weights': 'uniform'},\n",
       "  {'n_neighbors': 3, 'p': 2, 'weights': 'distance'},\n",
       "  {'n_neighbors': 4, 'p': 1, 'weights': 'uniform'},\n",
       "  {'n_neighbors': 4, 'p': 1, 'weights': 'distance'},\n",
       "  {'n_neighbors': 4, 'p': 2, 'weights': 'uniform'},\n",
       "  {'n_neighbors': 4, 'p': 2, 'weights': 'distance'},\n",
       "  {'n_neighbors': 5, 'p': 1, 'weights': 'uniform'},\n",
       "  {'n_neighbors': 5, 'p': 1, 'weights': 'distance'},\n",
       "  {'n_neighbors': 5, 'p': 2, 'weights': 'uniform'},\n",
       "  {'n_neighbors': 5, 'p': 2, 'weights': 'distance'},\n",
       "  {'n_neighbors': 6, 'p': 1, 'weights': 'uniform'},\n",
       "  {'n_neighbors': 6, 'p': 1, 'weights': 'distance'},\n",
       "  {'n_neighbors': 6, 'p': 2, 'weights': 'uniform'},\n",
       "  {'n_neighbors': 6, 'p': 2, 'weights': 'distance'},\n",
       "  {'n_neighbors': 7, 'p': 1, 'weights': 'uniform'},\n",
       "  {'n_neighbors': 7, 'p': 1, 'weights': 'distance'},\n",
       "  {'n_neighbors': 7, 'p': 2, 'weights': 'uniform'},\n",
       "  {'n_neighbors': 7, 'p': 2, 'weights': 'distance'},\n",
       "  {'n_neighbors': 8, 'p': 1, 'weights': 'uniform'},\n",
       "  {'n_neighbors': 8, 'p': 1, 'weights': 'distance'},\n",
       "  {'n_neighbors': 8, 'p': 2, 'weights': 'uniform'},\n",
       "  {'n_neighbors': 8, 'p': 2, 'weights': 'distance'},\n",
       "  {'n_neighbors': 9, 'p': 1, 'weights': 'uniform'},\n",
       "  {'n_neighbors': 9, 'p': 1, 'weights': 'distance'},\n",
       "  {'n_neighbors': 9, 'p': 2, 'weights': 'uniform'},\n",
       "  {'n_neighbors': 9, 'p': 2, 'weights': 'distance'},\n",
       "  {'n_neighbors': 10, 'p': 1, 'weights': 'uniform'},\n",
       "  {'n_neighbors': 10, 'p': 1, 'weights': 'distance'},\n",
       "  {'n_neighbors': 10, 'p': 2, 'weights': 'uniform'},\n",
       "  {'n_neighbors': 10, 'p': 2, 'weights': 'distance'},\n",
       "  {'n_neighbors': 11, 'p': 1, 'weights': 'uniform'},\n",
       "  {'n_neighbors': 11, 'p': 1, 'weights': 'distance'},\n",
       "  {'n_neighbors': 11, 'p': 2, 'weights': 'uniform'},\n",
       "  {'n_neighbors': 11, 'p': 2, 'weights': 'distance'},\n",
       "  {'n_neighbors': 12, 'p': 1, 'weights': 'uniform'},\n",
       "  {'n_neighbors': 12, 'p': 1, 'weights': 'distance'},\n",
       "  {'n_neighbors': 12, 'p': 2, 'weights': 'uniform'},\n",
       "  {'n_neighbors': 12, 'p': 2, 'weights': 'distance'},\n",
       "  {'n_neighbors': 13, 'p': 1, 'weights': 'uniform'},\n",
       "  {'n_neighbors': 13, 'p': 1, 'weights': 'distance'},\n",
       "  {'n_neighbors': 13, 'p': 2, 'weights': 'uniform'},\n",
       "  {'n_neighbors': 13, 'p': 2, 'weights': 'distance'},\n",
       "  {'n_neighbors': 14, 'p': 1, 'weights': 'uniform'},\n",
       "  {'n_neighbors': 14, 'p': 1, 'weights': 'distance'},\n",
       "  {'n_neighbors': 14, 'p': 2, 'weights': 'uniform'},\n",
       "  {'n_neighbors': 14, 'p': 2, 'weights': 'distance'},\n",
       "  {'n_neighbors': 15, 'p': 1, 'weights': 'uniform'},\n",
       "  {'n_neighbors': 15, 'p': 1, 'weights': 'distance'},\n",
       "  {'n_neighbors': 15, 'p': 2, 'weights': 'uniform'},\n",
       "  {'n_neighbors': 15, 'p': 2, 'weights': 'distance'},\n",
       "  {'n_neighbors': 16, 'p': 1, 'weights': 'uniform'},\n",
       "  {'n_neighbors': 16, 'p': 1, 'weights': 'distance'},\n",
       "  {'n_neighbors': 16, 'p': 2, 'weights': 'uniform'},\n",
       "  {'n_neighbors': 16, 'p': 2, 'weights': 'distance'},\n",
       "  {'n_neighbors': 17, 'p': 1, 'weights': 'uniform'},\n",
       "  {'n_neighbors': 17, 'p': 1, 'weights': 'distance'},\n",
       "  {'n_neighbors': 17, 'p': 2, 'weights': 'uniform'},\n",
       "  {'n_neighbors': 17, 'p': 2, 'weights': 'distance'},\n",
       "  {'n_neighbors': 18, 'p': 1, 'weights': 'uniform'},\n",
       "  {'n_neighbors': 18, 'p': 1, 'weights': 'distance'},\n",
       "  {'n_neighbors': 18, 'p': 2, 'weights': 'uniform'},\n",
       "  {'n_neighbors': 18, 'p': 2, 'weights': 'distance'},\n",
       "  {'n_neighbors': 19, 'p': 1, 'weights': 'uniform'},\n",
       "  {'n_neighbors': 19, 'p': 1, 'weights': 'distance'},\n",
       "  {'n_neighbors': 19, 'p': 2, 'weights': 'uniform'},\n",
       "  {'n_neighbors': 19, 'p': 2, 'weights': 'distance'},\n",
       "  {'n_neighbors': 20, 'p': 1, 'weights': 'uniform'},\n",
       "  {'n_neighbors': 20, 'p': 1, 'weights': 'distance'},\n",
       "  {'n_neighbors': 20, 'p': 2, 'weights': 'uniform'},\n",
       "  {'n_neighbors': 20, 'p': 2, 'weights': 'distance'},\n",
       "  {'n_neighbors': 21, 'p': 1, 'weights': 'uniform'},\n",
       "  {'n_neighbors': 21, 'p': 1, 'weights': 'distance'},\n",
       "  {'n_neighbors': 21, 'p': 2, 'weights': 'uniform'},\n",
       "  {'n_neighbors': 21, 'p': 2, 'weights': 'distance'},\n",
       "  {'n_neighbors': 22, 'p': 1, 'weights': 'uniform'},\n",
       "  {'n_neighbors': 22, 'p': 1, 'weights': 'distance'},\n",
       "  {'n_neighbors': 22, 'p': 2, 'weights': 'uniform'},\n",
       "  {'n_neighbors': 22, 'p': 2, 'weights': 'distance'},\n",
       "  {'n_neighbors': 23, 'p': 1, 'weights': 'uniform'},\n",
       "  {'n_neighbors': 23, 'p': 1, 'weights': 'distance'},\n",
       "  {'n_neighbors': 23, 'p': 2, 'weights': 'uniform'},\n",
       "  {'n_neighbors': 23, 'p': 2, 'weights': 'distance'},\n",
       "  {'n_neighbors': 24, 'p': 1, 'weights': 'uniform'},\n",
       "  {'n_neighbors': 24, 'p': 1, 'weights': 'distance'},\n",
       "  {'n_neighbors': 24, 'p': 2, 'weights': 'uniform'},\n",
       "  {'n_neighbors': 24, 'p': 2, 'weights': 'distance'},\n",
       "  {'n_neighbors': 25, 'p': 1, 'weights': 'uniform'},\n",
       "  {'n_neighbors': 25, 'p': 1, 'weights': 'distance'},\n",
       "  {'n_neighbors': 25, 'p': 2, 'weights': 'uniform'},\n",
       "  {'n_neighbors': 25, 'p': 2, 'weights': 'distance'},\n",
       "  {'n_neighbors': 26, 'p': 1, 'weights': 'uniform'},\n",
       "  {'n_neighbors': 26, 'p': 1, 'weights': 'distance'},\n",
       "  {'n_neighbors': 26, 'p': 2, 'weights': 'uniform'},\n",
       "  {'n_neighbors': 26, 'p': 2, 'weights': 'distance'},\n",
       "  {'n_neighbors': 27, 'p': 1, 'weights': 'uniform'},\n",
       "  {'n_neighbors': 27, 'p': 1, 'weights': 'distance'},\n",
       "  {'n_neighbors': 27, 'p': 2, 'weights': 'uniform'},\n",
       "  {'n_neighbors': 27, 'p': 2, 'weights': 'distance'},\n",
       "  {'n_neighbors': 28, 'p': 1, 'weights': 'uniform'},\n",
       "  {'n_neighbors': 28, 'p': 1, 'weights': 'distance'},\n",
       "  {'n_neighbors': 28, 'p': 2, 'weights': 'uniform'},\n",
       "  {'n_neighbors': 28, 'p': 2, 'weights': 'distance'},\n",
       "  {'n_neighbors': 29, 'p': 1, 'weights': 'uniform'},\n",
       "  {'n_neighbors': 29, 'p': 1, 'weights': 'distance'},\n",
       "  {'n_neighbors': 29, 'p': 2, 'weights': 'uniform'},\n",
       "  {'n_neighbors': 29, 'p': 2, 'weights': 'distance'},\n",
       "  {'n_neighbors': 30, 'p': 1, 'weights': 'uniform'},\n",
       "  {'n_neighbors': 30, 'p': 1, 'weights': 'distance'},\n",
       "  {'n_neighbors': 30, 'p': 2, 'weights': 'uniform'},\n",
       "  {'n_neighbors': 30, 'p': 2, 'weights': 'distance'}],\n",
       " 'rank_test_score': array([ 74,  74,  50,  50,  96,  74,  16,  50,  74,  74,  16,  50,  96,\n",
       "         96,   4,   4,  16,  74,   4,   4,  96,  74,  50,   4,  16,  74,\n",
       "         16,  16,  16,  16,   4,   1,   4,  50,   4,   1,  16,  50,   4,\n",
       "          1,  16,  50,  16,   4,  16,  16,  50,  16,  16,  16,  50,  16,\n",
       "         50,  16,  50,  16,  50,  16,  50,  16,  50,  16,  50,  16,  16,\n",
       "         16,  50,  16,  16,  16,  74,  16,  16,  16,  50,  16,  74,  74,\n",
       "         74,  16,  74,  50,  74,   4,  96,  50, 104,   4,  74,  50,  74,\n",
       "         50, 104,  74, 104,  74,  96,  74, 104,  16,  50,  74, 109,  74,\n",
       "        104,  96, 112,  50, 109,  96, 109,  74]),\n",
       " 'split0_test_score': array([0.96666667, 0.96666667, 0.96666667, 0.96666667, 0.96666667,\n",
       "        0.96666667, 0.96666667, 0.96666667, 0.96666667, 0.96666667,\n",
       "        0.96666667, 0.96666667, 0.96666667, 0.96666667, 0.96666667,\n",
       "        0.96666667, 0.96666667, 0.96666667, 0.96666667, 0.96666667,\n",
       "        0.96666667, 0.96666667, 0.96666667, 0.96666667, 0.96666667,\n",
       "        0.96666667, 0.96666667, 0.96666667, 0.96666667, 0.96666667,\n",
       "        0.96666667, 0.96666667, 0.96666667, 0.96666667, 0.93333333,\n",
       "        0.96666667, 0.96666667, 0.96666667, 0.93333333, 0.96666667,\n",
       "        0.93333333, 0.96666667, 0.93333333, 0.96666667, 0.96666667,\n",
       "        0.96666667, 0.93333333, 0.96666667, 0.96666667, 0.96666667,\n",
       "        0.93333333, 0.96666667, 0.96666667, 0.96666667, 0.93333333,\n",
       "        0.96666667, 0.93333333, 0.96666667, 0.93333333, 0.96666667,\n",
       "        0.93333333, 0.96666667, 0.93333333, 0.96666667, 0.93333333,\n",
       "        0.96666667, 0.93333333, 0.96666667, 0.93333333, 0.96666667,\n",
       "        0.93333333, 0.96666667, 0.93333333, 0.96666667, 0.93333333,\n",
       "        0.96666667, 0.93333333, 0.93333333, 0.93333333, 0.96666667,\n",
       "        0.93333333, 0.96666667, 0.93333333, 0.96666667, 0.93333333,\n",
       "        0.96666667, 0.93333333, 0.96666667, 0.93333333, 0.96666667,\n",
       "        0.93333333, 0.96666667, 0.93333333, 0.96666667, 0.93333333,\n",
       "        0.93333333, 0.93333333, 0.96666667, 0.9       , 0.96666667,\n",
       "        0.93333333, 0.96666667, 0.9       , 0.96666667, 0.93333333,\n",
       "        0.96666667, 0.9       , 0.96666667, 0.93333333, 0.96666667,\n",
       "        0.9       , 0.96666667]),\n",
       " 'split0_train_score': array([0.95833333, 1.        , 0.95833333, 1.        , 0.95      ,\n",
       "        1.        , 0.95833333, 1.        , 0.95833333, 1.        ,\n",
       "        0.96666667, 1.        , 0.95833333, 1.        , 0.96666667,\n",
       "        1.        , 0.96666667, 1.        , 0.96666667, 1.        ,\n",
       "        0.95833333, 1.        , 0.975     , 1.        , 0.96666667,\n",
       "        1.        , 0.975     , 1.        , 0.95833333, 1.        ,\n",
       "        0.975     , 1.        , 0.96666667, 1.        , 0.98333333,\n",
       "        1.        , 0.95833333, 1.        , 0.98333333, 1.        ,\n",
       "        0.975     , 1.        , 0.98333333, 1.        , 0.96666667,\n",
       "        1.        , 0.98333333, 1.        , 0.96666667, 1.        ,\n",
       "        0.98333333, 1.        , 0.975     , 1.        , 0.98333333,\n",
       "        1.        , 0.975     , 1.        , 0.98333333, 1.        ,\n",
       "        0.975     , 1.        , 0.98333333, 1.        , 0.975     ,\n",
       "        1.        , 0.98333333, 1.        , 0.96666667, 1.        ,\n",
       "        0.98333333, 1.        , 0.975     , 1.        , 0.96666667,\n",
       "        1.        , 0.96666667, 1.        , 0.975     , 1.        ,\n",
       "        0.96666667, 1.        , 0.975     , 1.        , 0.96666667,\n",
       "        1.        , 0.975     , 1.        , 0.975     , 1.        ,\n",
       "        0.975     , 1.        , 0.95833333, 1.        , 0.975     ,\n",
       "        1.        , 0.96666667, 1.        , 0.96666667, 1.        ,\n",
       "        0.96666667, 1.        , 0.95      , 1.        , 0.96666667,\n",
       "        1.        , 0.95833333, 1.        , 0.96666667, 1.        ,\n",
       "        0.95833333, 1.        ]),\n",
       " 'split1_test_score': array([0.96666667, 0.96666667, 0.96666667, 0.96666667, 0.96666667,\n",
       "        0.96666667, 0.96666667, 0.96666667, 0.96666667, 0.96666667,\n",
       "        1.        , 1.        , 0.96666667, 0.96666667, 1.        ,\n",
       "        1.        , 1.        , 0.96666667, 1.        , 1.        ,\n",
       "        0.96666667, 0.96666667, 1.        , 1.        , 1.        ,\n",
       "        0.96666667, 1.        , 1.        , 1.        , 1.        ,\n",
       "        1.        , 1.        , 1.        , 1.        , 1.        ,\n",
       "        1.        , 1.        , 1.        , 1.        , 1.        ,\n",
       "        1.        , 1.        , 1.        , 1.        , 1.        ,\n",
       "        1.        , 1.        , 1.        , 1.        , 1.        ,\n",
       "        1.        , 1.        , 1.        , 1.        , 1.        ,\n",
       "        1.        , 1.        , 1.        , 1.        , 1.        ,\n",
       "        1.        , 1.        , 1.        , 1.        , 1.        ,\n",
       "        1.        , 1.        , 1.        , 1.        , 1.        ,\n",
       "        1.        , 1.        , 1.        , 1.        , 1.        ,\n",
       "        1.        , 0.96666667, 0.96666667, 1.        , 1.        ,\n",
       "        0.96666667, 0.96666667, 1.        , 1.        , 0.96666667,\n",
       "        0.96666667, 0.96666667, 1.        , 0.96666667, 0.96666667,\n",
       "        0.96666667, 0.96666667, 0.96666667, 0.96666667, 0.96666667,\n",
       "        0.96666667, 0.96666667, 0.96666667, 0.96666667, 0.96666667,\n",
       "        0.96666667, 0.96666667, 0.96666667, 0.96666667, 0.96666667,\n",
       "        0.96666667, 0.96666667, 0.96666667, 0.96666667, 0.96666667,\n",
       "        0.96666667, 0.96666667]),\n",
       " 'split1_train_score': array([0.95833333, 1.        , 0.95833333, 1.        , 0.95833333,\n",
       "        1.        , 0.95833333, 1.        , 0.96666667, 1.        ,\n",
       "        0.96666667, 1.        , 0.95833333, 1.        , 0.975     ,\n",
       "        1.        , 0.96666667, 1.        , 0.96666667, 1.        ,\n",
       "        0.975     , 1.        , 0.98333333, 1.        , 0.975     ,\n",
       "        1.        , 0.98333333, 1.        , 0.96666667, 1.        ,\n",
       "        0.975     , 1.        , 0.95833333, 1.        , 0.975     ,\n",
       "        1.        , 0.95      , 1.        , 0.975     , 1.        ,\n",
       "        0.96666667, 1.        , 0.975     , 1.        , 0.95833333,\n",
       "        1.        , 0.975     , 1.        , 0.96666667, 1.        ,\n",
       "        0.975     , 1.        , 0.95833333, 1.        , 0.98333333,\n",
       "        1.        , 0.975     , 1.        , 0.96666667, 1.        ,\n",
       "        0.975     , 1.        , 0.98333333, 1.        , 0.975     ,\n",
       "        1.        , 0.975     , 1.        , 0.975     , 1.        ,\n",
       "        0.95833333, 1.        , 0.975     , 1.        , 0.975     ,\n",
       "        1.        , 0.96666667, 1.        , 0.94166667, 1.        ,\n",
       "        0.96666667, 1.        , 0.95      , 1.        , 0.95      ,\n",
       "        1.        , 0.94166667, 1.        , 0.94166667, 1.        ,\n",
       "        0.95      , 1.        , 0.95      , 1.        , 0.93333333,\n",
       "        1.        , 0.95      , 1.        , 0.94166667, 1.        ,\n",
       "        0.95      , 1.        , 0.94166667, 1.        , 0.94166667,\n",
       "        1.        , 0.94166667, 1.        , 0.94166667, 1.        ,\n",
       "        0.93333333, 1.        ]),\n",
       " 'split2_test_score': array([0.93333333, 0.93333333, 0.93333333, 0.93333333, 0.93333333,\n",
       "        0.93333333, 0.96666667, 0.93333333, 0.9       , 0.9       ,\n",
       "        0.93333333, 0.9       , 0.93333333, 0.9       , 0.96666667,\n",
       "        0.96666667, 0.96666667, 0.9       , 0.96666667, 0.96666667,\n",
       "        0.93333333, 0.93333333, 0.93333333, 0.96666667, 0.96666667,\n",
       "        0.9       , 0.96666667, 0.93333333, 0.96666667, 0.93333333,\n",
       "        1.        , 1.        , 0.96666667, 0.9       , 1.        ,\n",
       "        1.        , 0.96666667, 0.93333333, 1.        , 1.        ,\n",
       "        0.96666667, 0.9       , 0.96666667, 0.96666667, 0.96666667,\n",
       "        0.93333333, 0.96666667, 0.93333333, 0.96666667, 0.93333333,\n",
       "        0.93333333, 0.93333333, 0.96666667, 0.96666667, 0.93333333,\n",
       "        0.93333333, 0.96666667, 0.93333333, 0.93333333, 0.93333333,\n",
       "        0.96666667, 0.93333333, 0.96666667, 0.93333333, 0.96666667,\n",
       "        0.93333333, 0.93333333, 0.93333333, 0.96666667, 0.93333333,\n",
       "        0.93333333, 0.93333333, 0.96666667, 0.93333333, 0.93333333,\n",
       "        0.93333333, 0.96666667, 0.93333333, 0.93333333, 0.93333333,\n",
       "        0.93333333, 0.93333333, 0.93333333, 0.96666667, 0.93333333,\n",
       "        0.93333333, 0.9       , 0.96666667, 0.93333333, 0.93333333,\n",
       "        0.93333333, 0.93333333, 0.93333333, 0.9       , 0.93333333,\n",
       "        0.93333333, 0.93333333, 0.93333333, 0.93333333, 0.96666667,\n",
       "        0.96666667, 0.9       , 0.93333333, 0.9       , 0.9       ,\n",
       "        0.9       , 0.9       , 0.93333333, 0.86666667, 0.9       ,\n",
       "        0.93333333, 0.93333333]),\n",
       " 'split2_train_score': array([0.96666667, 1.        , 0.96666667, 1.        , 0.95833333,\n",
       "        1.        , 0.95833333, 1.        , 0.96666667, 1.        ,\n",
       "        0.975     , 1.        , 0.96666667, 1.        , 0.975     ,\n",
       "        1.        , 0.975     , 1.        , 0.975     , 1.        ,\n",
       "        0.96666667, 1.        , 0.975     , 1.        , 0.975     ,\n",
       "        1.        , 0.975     , 1.        , 0.975     , 1.        ,\n",
       "        0.975     , 1.        , 0.975     , 1.        , 0.975     ,\n",
       "        1.        , 0.975     , 1.        , 0.975     , 1.        ,\n",
       "        0.975     , 1.        , 0.975     , 1.        , 0.975     ,\n",
       "        1.        , 0.975     , 1.        , 0.975     , 1.        ,\n",
       "        0.98333333, 1.        , 0.975     , 1.        , 0.975     ,\n",
       "        1.        , 0.98333333, 1.        , 0.98333333, 1.        ,\n",
       "        0.975     , 1.        , 0.975     , 1.        , 0.98333333,\n",
       "        1.        , 0.975     , 1.        , 0.975     , 1.        ,\n",
       "        0.975     , 1.        , 0.96666667, 1.        , 0.975     ,\n",
       "        1.        , 0.96666667, 1.        , 0.95833333, 1.        ,\n",
       "        0.96666667, 1.        , 0.95833333, 1.        , 0.95833333,\n",
       "        1.        , 0.95833333, 1.        , 0.96666667, 1.        ,\n",
       "        0.96666667, 1.        , 0.975     , 1.        , 0.96666667,\n",
       "        1.        , 0.96666667, 1.        , 0.96666667, 1.        ,\n",
       "        0.96666667, 1.        , 0.95833333, 1.        , 0.96666667,\n",
       "        1.        , 0.95833333, 1.        , 0.95833333, 1.        ,\n",
       "        0.95833333, 1.        ]),\n",
       " 'split3_test_score': array([0.93333333, 0.93333333, 0.96666667, 0.96666667, 0.9       ,\n",
       "        0.93333333, 0.96666667, 0.96666667, 0.96666667, 0.96666667,\n",
       "        0.96666667, 0.96666667, 0.9       , 0.93333333, 0.96666667,\n",
       "        0.96666667, 0.93333333, 0.96666667, 0.96666667, 0.96666667,\n",
       "        0.9       , 0.93333333, 0.93333333, 0.96666667, 0.93333333,\n",
       "        0.96666667, 0.93333333, 0.96666667, 0.93333333, 0.96666667,\n",
       "        0.93333333, 0.96666667, 0.96666667, 0.96666667, 0.96666667,\n",
       "        0.96666667, 0.93333333, 0.93333333, 0.96666667, 0.96666667,\n",
       "        0.96666667, 0.96666667, 0.96666667, 0.96666667, 0.93333333,\n",
       "        0.96666667, 0.93333333, 0.96666667, 0.93333333, 0.96666667,\n",
       "        0.96666667, 0.96666667, 0.9       , 0.93333333, 0.96666667,\n",
       "        0.96666667, 0.93333333, 0.96666667, 0.96666667, 0.96666667,\n",
       "        0.93333333, 0.96666667, 0.93333333, 0.96666667, 0.96666667,\n",
       "        0.96666667, 0.96666667, 0.96666667, 0.96666667, 0.96666667,\n",
       "        0.93333333, 0.96666667, 0.96666667, 0.96666667, 0.96666667,\n",
       "        0.96666667, 0.93333333, 0.96666667, 0.93333333, 0.96666667,\n",
       "        0.96666667, 0.96666667, 0.93333333, 0.96666667, 0.93333333,\n",
       "        0.96666667, 0.93333333, 0.96666667, 0.96666667, 0.96666667,\n",
       "        0.96666667, 0.96666667, 0.9       , 0.96666667, 0.9       ,\n",
       "        0.96666667, 0.93333333, 0.93333333, 0.93333333, 0.96666667,\n",
       "        0.96666667, 0.96666667, 0.9       , 0.96666667, 0.93333333,\n",
       "        0.93333333, 0.9       , 0.96666667, 0.93333333, 0.93333333,\n",
       "        0.9       , 0.93333333]),\n",
       " 'split3_train_score': array([0.96666667, 1.        , 0.96666667, 1.        , 0.96666667,\n",
       "        1.        , 0.975     , 1.        , 0.975     , 1.        ,\n",
       "        0.975     , 1.        , 0.975     , 1.        , 0.98333333,\n",
       "        1.        , 0.975     , 1.        , 0.98333333, 1.        ,\n",
       "        0.96666667, 1.        , 0.99166667, 1.        , 0.98333333,\n",
       "        1.        , 0.98333333, 1.        , 0.975     , 1.        ,\n",
       "        0.98333333, 1.        , 0.96666667, 1.        , 0.975     ,\n",
       "        1.        , 0.96666667, 1.        , 0.98333333, 1.        ,\n",
       "        0.975     , 1.        , 0.98333333, 1.        , 0.975     ,\n",
       "        1.        , 0.98333333, 1.        , 0.975     , 1.        ,\n",
       "        0.975     , 1.        , 0.98333333, 1.        , 0.98333333,\n",
       "        1.        , 0.98333333, 1.        , 0.98333333, 1.        ,\n",
       "        0.975     , 1.        , 0.98333333, 1.        , 0.98333333,\n",
       "        1.        , 0.98333333, 1.        , 0.96666667, 1.        ,\n",
       "        0.975     , 1.        , 0.96666667, 1.        , 0.975     ,\n",
       "        1.        , 0.96666667, 1.        , 0.99166667, 1.        ,\n",
       "        0.95833333, 1.        , 0.98333333, 1.        , 0.95833333,\n",
       "        1.        , 0.975     , 1.        , 0.95833333, 1.        ,\n",
       "        0.96666667, 1.        , 0.96666667, 1.        , 0.96666667,\n",
       "        1.        , 0.975     , 1.        , 0.96666667, 1.        ,\n",
       "        0.96666667, 1.        , 0.96666667, 1.        , 0.95833333,\n",
       "        1.        , 0.96666667, 1.        , 0.96666667, 1.        ,\n",
       "        0.96666667, 1.        ]),\n",
       " 'split4_test_score': array([1., 1., 1., 1., 1., 1., 1., 1., 1., 1., 1., 1., 1., 1., 1., 1., 1.,\n",
       "        1., 1., 1., 1., 1., 1., 1., 1., 1., 1., 1., 1., 1., 1., 1., 1., 1.,\n",
       "        1., 1., 1., 1., 1., 1., 1., 1., 1., 1., 1., 1., 1., 1., 1., 1., 1.,\n",
       "        1., 1., 1., 1., 1., 1., 1., 1., 1., 1., 1., 1., 1., 1., 1., 1., 1.,\n",
       "        1., 1., 1., 1., 1., 1., 1., 1., 1., 1., 1., 1., 1., 1., 1., 1., 1.,\n",
       "        1., 1., 1., 1., 1., 1., 1., 1., 1., 1., 1., 1., 1., 1., 1., 1., 1.,\n",
       "        1., 1., 1., 1., 1., 1., 1., 1., 1., 1.]),\n",
       " 'split4_train_score': array([0.95      , 1.        , 0.95      , 1.        , 0.95      ,\n",
       "        1.        , 0.96666667, 1.        , 0.95833333, 1.        ,\n",
       "        0.96666667, 1.        , 0.95      , 1.        , 0.96666667,\n",
       "        1.        , 0.95833333, 1.        , 0.975     , 1.        ,\n",
       "        0.95      , 1.        , 0.975     , 1.        , 0.95      ,\n",
       "        1.        , 0.975     , 1.        , 0.94166667, 1.        ,\n",
       "        0.95833333, 1.        , 0.93333333, 1.        , 0.96666667,\n",
       "        1.        , 0.925     , 1.        , 0.95833333, 1.        ,\n",
       "        0.94166667, 1.        , 0.975     , 1.        , 0.94166667,\n",
       "        1.        , 0.96666667, 1.        , 0.95833333, 1.        ,\n",
       "        0.96666667, 1.        , 0.95      , 1.        , 0.95      ,\n",
       "        1.        , 0.95833333, 1.        , 0.95833333, 1.        ,\n",
       "        0.94166667, 1.        , 0.95      , 1.        , 0.95      ,\n",
       "        1.        , 0.95      , 1.        , 0.95      , 1.        ,\n",
       "        0.94166667, 1.        , 0.94166667, 1.        , 0.95      ,\n",
       "        1.        , 0.95      , 1.        , 0.95      , 1.        ,\n",
       "        0.95      , 1.        , 0.95      , 1.        , 0.95      ,\n",
       "        1.        , 0.93333333, 1.        , 0.95      , 1.        ,\n",
       "        0.94166667, 1.        , 0.95      , 1.        , 0.93333333,\n",
       "        1.        , 0.94166667, 1.        , 0.94166667, 1.        ,\n",
       "        0.95      , 1.        , 0.94166667, 1.        , 0.95      ,\n",
       "        1.        , 0.94166667, 1.        , 0.95      , 1.        ,\n",
       "        0.93333333, 1.        ]),\n",
       " 'std_fit_time': array([0.        , 0.00039005, 0.00040216, 0.00048443, 0.        ,\n",
       "        0.00040381, 0.00049086, 0.00050061, 0.00040064, 0.        ,\n",
       "        0.00040102, 0.00040083, 0.00040207, 0.        , 0.        ,\n",
       "        0.00049014, 0.00040121, 0.00048975, 0.00039034, 0.00039015,\n",
       "        0.00040007, 0.00039635, 0.00039234, 0.00049306, 0.00040102,\n",
       "        0.        , 0.00040102, 0.00049109, 0.00049208, 0.0004913 ,\n",
       "        0.00040007, 0.00039005, 0.00038996, 0.00040102, 0.00049804,\n",
       "        0.00040207, 0.00040131, 0.00040406, 0.00048784, 0.00040112,\n",
       "        0.00049775, 0.00040102, 0.00049569, 0.00040016, 0.00040102,\n",
       "        0.00040112, 0.00049302, 0.00040112, 0.00040112, 0.00048452,\n",
       "        0.00040073, 0.        , 0.        , 0.00048372, 0.00040102,\n",
       "        0.        , 0.00039568, 0.00040064, 0.0004117 , 0.0004014 ,\n",
       "        0.        , 0.        , 0.0004015 , 0.00049673, 0.00040083,\n",
       "        0.        , 0.00049751, 0.        , 0.00040073, 0.00040092,\n",
       "        0.0004015 , 0.00040207, 0.00040102, 0.        , 0.0004015 ,\n",
       "        0.        , 0.00049824, 0.00040092, 0.00039845, 0.00040112,\n",
       "        0.00049719, 0.00040064, 0.00038977, 0.00040131, 0.00048464,\n",
       "        0.00040197, 0.00039988, 0.        , 0.00039978, 0.00049734,\n",
       "        0.        , 0.00040054, 0.00040083, 0.00049511, 0.00049103,\n",
       "        0.00049394, 0.0004015 , 0.00040007, 0.00041761, 0.00116872,\n",
       "        0.00049057, 0.0004014 , 0.00049398, 0.00049378, 0.00049178,\n",
       "        0.00048411, 0.00041761, 0.00049033, 0.00041733, 0.00039682,\n",
       "        0.00040188, 0.00040398]),\n",
       " 'std_score_time': array([4.86745660e-04, 4.91382725e-04, 4.85981147e-04, 4.01496887e-04,\n",
       "        2.54451496e-05, 4.85235771e-04, 4.91673830e-04, 4.84400317e-04,\n",
       "        4.85514030e-04, 4.87128995e-04, 4.91031583e-04, 4.00733948e-04,\n",
       "        4.97431313e-04, 4.90564080e-04, 4.91420579e-04, 4.92607542e-04,\n",
       "        4.85371965e-04, 4.90504990e-04, 4.92214671e-04, 4.91789706e-04,\n",
       "        4.89444074e-04, 4.91556104e-04, 4.89237611e-04, 4.01592255e-04,\n",
       "        4.94584769e-04, 4.01567631e-04, 4.84272550e-04, 4.91264050e-04,\n",
       "        4.91459050e-04, 4.91205656e-04, 4.95888599e-04, 4.92198549e-04,\n",
       "        4.91088901e-04, 4.91264050e-04, 4.02259827e-04, 4.93802127e-04,\n",
       "        4.05254433e-04, 3.99971008e-04, 4.86340279e-04, 4.91186191e-04,\n",
       "        4.93141185e-04, 4.86608977e-04, 4.84058713e-04, 4.92257140e-04,\n",
       "        4.87757114e-04, 4.91205656e-04, 3.99208069e-04, 4.91205656e-04,\n",
       "        4.95291562e-04, 4.02069092e-04, 5.01183061e-04, 4.90407983e-04,\n",
       "        4.91852492e-04, 4.91304380e-04, 4.93743485e-04, 4.01548662e-04,\n",
       "        4.99191199e-04, 4.04071521e-04, 4.82634884e-04, 5.00993811e-04,\n",
       "        4.88404970e-04, 4.02738566e-04, 4.86844775e-04, 4.00447845e-04,\n",
       "        4.06074524e-04, 3.95480932e-04, 4.85639729e-04, 4.95754639e-04,\n",
       "        4.91439951e-04, 4.96267539e-04, 4.91693831e-04, 3.98844209e-04,\n",
       "        4.91790631e-04, 4.86115887e-04, 4.91150050e-04, 4.04789167e-04,\n",
       "        4.90685978e-04, 4.86780632e-04, 4.91969851e-04, 4.91459860e-04,\n",
       "        4.84729455e-04, 4.90923120e-04, 4.89170026e-04, 4.91061621e-04,\n",
       "        4.88791125e-04, 4.96507799e-04, 4.04430037e-04, 1.72289388e-05,\n",
       "        4.91421412e-04, 1.09519950e-03, 4.96715168e-04, 3.97908097e-04,\n",
       "        5.00264359e-04, 3.97027590e-04, 3.99971008e-04, 4.92519568e-04,\n",
       "        3.94396928e-04, 4.91109666e-04, 3.99251171e-04, 4.90502978e-04,\n",
       "        4.91439720e-04, 4.00727990e-04, 4.84172185e-04, 4.89848400e-04,\n",
       "        4.00638580e-04, 4.01447632e-04, 3.96865680e-04, 4.91031931e-04,\n",
       "        3.95096847e-04, 1.84694242e-05, 4.92085283e-04, 5.16747177e-06]),\n",
       " 'std_test_score': array([0.02494438, 0.02494438, 0.02108185, 0.02108185, 0.03399346,\n",
       "        0.02494438, 0.01333333, 0.02108185, 0.03265986, 0.03265986,\n",
       "        0.02494438, 0.03651484, 0.03399346, 0.03399346, 0.01632993,\n",
       "        0.01632993, 0.02494438, 0.03265986, 0.01632993, 0.01632993,\n",
       "        0.03399346, 0.02494438, 0.02981424, 0.01632993, 0.02494438,\n",
       "        0.03265986, 0.02494438, 0.02494438, 0.02494438, 0.02494438,\n",
       "        0.02666667, 0.01632993, 0.01632993, 0.03651484, 0.02666667,\n",
       "        0.01632993, 0.02494438, 0.02981424, 0.02666667, 0.01632993,\n",
       "        0.02494438, 0.03651484, 0.02494438, 0.01632993, 0.02494438,\n",
       "        0.02494438, 0.02981424, 0.02494438, 0.02494438, 0.02494438,\n",
       "        0.02981424, 0.02494438, 0.03651484, 0.02494438, 0.02981424,\n",
       "        0.02494438, 0.02981424, 0.02494438, 0.02981424, 0.02494438,\n",
       "        0.02981424, 0.02494438, 0.02981424, 0.02494438, 0.02494438,\n",
       "        0.02494438, 0.02981424, 0.02494438, 0.02494438, 0.02494438,\n",
       "        0.03265986, 0.02494438, 0.02494438, 0.02494438, 0.02981424,\n",
       "        0.02494438, 0.02494438, 0.02494438, 0.03265986, 0.02494438,\n",
       "        0.02494438, 0.02108185, 0.03265986, 0.01632993, 0.02666667,\n",
       "        0.02108185, 0.03399346, 0.01632993, 0.02494438, 0.02108185,\n",
       "        0.02494438, 0.02108185, 0.03399346, 0.03265986, 0.03399346,\n",
       "        0.02494438, 0.02666667, 0.02494438, 0.03399346, 0.01333333,\n",
       "        0.02108185, 0.03265986, 0.03887301, 0.03265986, 0.03399346,\n",
       "        0.03399346, 0.0421637 , 0.02108185, 0.04422166, 0.03399346,\n",
       "        0.03887301, 0.02494438]),\n",
       " 'std_train_score': array([0.0062361 , 0.        , 0.0062361 , 0.        , 0.0062361 ,\n",
       "        0.        , 0.00666667, 0.        , 0.0062361 , 0.        ,\n",
       "        0.00408248, 0.        , 0.00849837, 0.        , 0.0062361 ,\n",
       "        0.        , 0.0062361 , 0.        , 0.0062361 , 0.        ,\n",
       "        0.00849837, 0.        , 0.00666667, 0.        , 0.01130388,\n",
       "        0.        , 0.00408248, 0.        , 0.01247219, 0.        ,\n",
       "        0.00816497, 0.        , 0.01433721, 0.        , 0.00527046,\n",
       "        0.        , 0.01715938, 0.        , 0.00912871, 0.        ,\n",
       "        0.01290994, 0.        , 0.00408248, 0.        , 0.01247219,\n",
       "        0.        , 0.0062361 , 0.        , 0.0062361 , 0.        ,\n",
       "        0.0062361 , 0.        , 0.01224745, 0.        , 0.01290994,\n",
       "        0.        , 0.00912871, 0.        , 0.01054093, 0.        ,\n",
       "        0.01333333, 0.        , 0.01290994, 0.        , 0.01224745,\n",
       "        0.        , 0.01224745, 0.        , 0.00912871, 0.        ,\n",
       "        0.01490712, 0.        , 0.01224745, 0.        , 0.00971825,\n",
       "        0.        , 0.00666667, 0.        , 0.01795055, 0.        ,\n",
       "        0.00666667, 0.        , 0.01354006, 0.        , 0.0062361 ,\n",
       "        0.        , 0.01699673, 0.        , 0.01178511, 0.        ,\n",
       "        0.01224745, 0.        , 0.00971825, 0.        , 0.01795055,\n",
       "        0.        , 0.01224745, 0.        , 0.01224745, 0.        ,\n",
       "        0.00816497, 0.        , 0.00971825, 0.        , 0.00971825,\n",
       "        0.        , 0.01      , 0.        , 0.00971825, 0.        ,\n",
       "        0.01394433, 0.        ])}"
      ]
     },
     "execution_count": 35,
     "metadata": {},
     "output_type": "execute_result"
    }
   ],
   "source": [
    "grid_param2 = [{'weights': ['uniform', 'distance'], 'n_neighbors': range(3, 31), 'p': [1, 2]}]\n",
    "para_search2 = GridSearchCV(knn, grid_param2, scoring='accuracy', cv=5)\n",
    "para_search2.fit(iris.data, iris.target)\n",
    "para_search2.cv_results_"
   ]
  },
  {
   "cell_type": "code",
   "execution_count": 36,
   "metadata": {},
   "outputs": [
    {
     "name": "stderr",
     "output_type": "stream",
     "text": [
      "C:\\Users\\mlu\\AppData\\Local\\Continuum\\anaconda3\\lib\\site-packages\\sklearn\\model_selection\\_search.py:761: DeprecationWarning: The grid_scores_ attribute was deprecated in version 0.18 in favor of the more elaborate cv_results_ attribute. The grid_scores_ attribute will not be available from 0.20\n",
      "  DeprecationWarning)\n"
     ]
    },
    {
     "data": {
      "text/plain": [
       "[mean: 0.96000, std: 0.02494, params: {'n_neighbors': 3, 'p': 1, 'weights': 'uniform'},\n",
       " mean: 0.96000, std: 0.02494, params: {'n_neighbors': 3, 'p': 1, 'weights': 'distance'},\n",
       " mean: 0.96667, std: 0.02108, params: {'n_neighbors': 3, 'p': 2, 'weights': 'uniform'},\n",
       " mean: 0.96667, std: 0.02108, params: {'n_neighbors': 3, 'p': 2, 'weights': 'distance'},\n",
       " mean: 0.95333, std: 0.03399, params: {'n_neighbors': 4, 'p': 1, 'weights': 'uniform'},\n",
       " mean: 0.96000, std: 0.02494, params: {'n_neighbors': 4, 'p': 1, 'weights': 'distance'},\n",
       " mean: 0.97333, std: 0.01333, params: {'n_neighbors': 4, 'p': 2, 'weights': 'uniform'},\n",
       " mean: 0.96667, std: 0.02108, params: {'n_neighbors': 4, 'p': 2, 'weights': 'distance'},\n",
       " mean: 0.96000, std: 0.03266, params: {'n_neighbors': 5, 'p': 1, 'weights': 'uniform'},\n",
       " mean: 0.96000, std: 0.03266, params: {'n_neighbors': 5, 'p': 1, 'weights': 'distance'},\n",
       " mean: 0.97333, std: 0.02494, params: {'n_neighbors': 5, 'p': 2, 'weights': 'uniform'},\n",
       " mean: 0.96667, std: 0.03651, params: {'n_neighbors': 5, 'p': 2, 'weights': 'distance'},\n",
       " mean: 0.95333, std: 0.03399, params: {'n_neighbors': 6, 'p': 1, 'weights': 'uniform'},\n",
       " mean: 0.95333, std: 0.03399, params: {'n_neighbors': 6, 'p': 1, 'weights': 'distance'},\n",
       " mean: 0.98000, std: 0.01633, params: {'n_neighbors': 6, 'p': 2, 'weights': 'uniform'},\n",
       " mean: 0.98000, std: 0.01633, params: {'n_neighbors': 6, 'p': 2, 'weights': 'distance'},\n",
       " mean: 0.97333, std: 0.02494, params: {'n_neighbors': 7, 'p': 1, 'weights': 'uniform'},\n",
       " mean: 0.96000, std: 0.03266, params: {'n_neighbors': 7, 'p': 1, 'weights': 'distance'},\n",
       " mean: 0.98000, std: 0.01633, params: {'n_neighbors': 7, 'p': 2, 'weights': 'uniform'},\n",
       " mean: 0.98000, std: 0.01633, params: {'n_neighbors': 7, 'p': 2, 'weights': 'distance'},\n",
       " mean: 0.95333, std: 0.03399, params: {'n_neighbors': 8, 'p': 1, 'weights': 'uniform'},\n",
       " mean: 0.96000, std: 0.02494, params: {'n_neighbors': 8, 'p': 1, 'weights': 'distance'},\n",
       " mean: 0.96667, std: 0.02981, params: {'n_neighbors': 8, 'p': 2, 'weights': 'uniform'},\n",
       " mean: 0.98000, std: 0.01633, params: {'n_neighbors': 8, 'p': 2, 'weights': 'distance'},\n",
       " mean: 0.97333, std: 0.02494, params: {'n_neighbors': 9, 'p': 1, 'weights': 'uniform'},\n",
       " mean: 0.96000, std: 0.03266, params: {'n_neighbors': 9, 'p': 1, 'weights': 'distance'},\n",
       " mean: 0.97333, std: 0.02494, params: {'n_neighbors': 9, 'p': 2, 'weights': 'uniform'},\n",
       " mean: 0.97333, std: 0.02494, params: {'n_neighbors': 9, 'p': 2, 'weights': 'distance'},\n",
       " mean: 0.97333, std: 0.02494, params: {'n_neighbors': 10, 'p': 1, 'weights': 'uniform'},\n",
       " mean: 0.97333, std: 0.02494, params: {'n_neighbors': 10, 'p': 1, 'weights': 'distance'},\n",
       " mean: 0.98000, std: 0.02667, params: {'n_neighbors': 10, 'p': 2, 'weights': 'uniform'},\n",
       " mean: 0.98667, std: 0.01633, params: {'n_neighbors': 10, 'p': 2, 'weights': 'distance'},\n",
       " mean: 0.98000, std: 0.01633, params: {'n_neighbors': 11, 'p': 1, 'weights': 'uniform'},\n",
       " mean: 0.96667, std: 0.03651, params: {'n_neighbors': 11, 'p': 1, 'weights': 'distance'},\n",
       " mean: 0.98000, std: 0.02667, params: {'n_neighbors': 11, 'p': 2, 'weights': 'uniform'},\n",
       " mean: 0.98667, std: 0.01633, params: {'n_neighbors': 11, 'p': 2, 'weights': 'distance'},\n",
       " mean: 0.97333, std: 0.02494, params: {'n_neighbors': 12, 'p': 1, 'weights': 'uniform'},\n",
       " mean: 0.96667, std: 0.02981, params: {'n_neighbors': 12, 'p': 1, 'weights': 'distance'},\n",
       " mean: 0.98000, std: 0.02667, params: {'n_neighbors': 12, 'p': 2, 'weights': 'uniform'},\n",
       " mean: 0.98667, std: 0.01633, params: {'n_neighbors': 12, 'p': 2, 'weights': 'distance'},\n",
       " mean: 0.97333, std: 0.02494, params: {'n_neighbors': 13, 'p': 1, 'weights': 'uniform'},\n",
       " mean: 0.96667, std: 0.03651, params: {'n_neighbors': 13, 'p': 1, 'weights': 'distance'},\n",
       " mean: 0.97333, std: 0.02494, params: {'n_neighbors': 13, 'p': 2, 'weights': 'uniform'},\n",
       " mean: 0.98000, std: 0.01633, params: {'n_neighbors': 13, 'p': 2, 'weights': 'distance'},\n",
       " mean: 0.97333, std: 0.02494, params: {'n_neighbors': 14, 'p': 1, 'weights': 'uniform'},\n",
       " mean: 0.97333, std: 0.02494, params: {'n_neighbors': 14, 'p': 1, 'weights': 'distance'},\n",
       " mean: 0.96667, std: 0.02981, params: {'n_neighbors': 14, 'p': 2, 'weights': 'uniform'},\n",
       " mean: 0.97333, std: 0.02494, params: {'n_neighbors': 14, 'p': 2, 'weights': 'distance'},\n",
       " mean: 0.97333, std: 0.02494, params: {'n_neighbors': 15, 'p': 1, 'weights': 'uniform'},\n",
       " mean: 0.97333, std: 0.02494, params: {'n_neighbors': 15, 'p': 1, 'weights': 'distance'},\n",
       " mean: 0.96667, std: 0.02981, params: {'n_neighbors': 15, 'p': 2, 'weights': 'uniform'},\n",
       " mean: 0.97333, std: 0.02494, params: {'n_neighbors': 15, 'p': 2, 'weights': 'distance'},\n",
       " mean: 0.96667, std: 0.03651, params: {'n_neighbors': 16, 'p': 1, 'weights': 'uniform'},\n",
       " mean: 0.97333, std: 0.02494, params: {'n_neighbors': 16, 'p': 1, 'weights': 'distance'},\n",
       " mean: 0.96667, std: 0.02981, params: {'n_neighbors': 16, 'p': 2, 'weights': 'uniform'},\n",
       " mean: 0.97333, std: 0.02494, params: {'n_neighbors': 16, 'p': 2, 'weights': 'distance'},\n",
       " mean: 0.96667, std: 0.02981, params: {'n_neighbors': 17, 'p': 1, 'weights': 'uniform'},\n",
       " mean: 0.97333, std: 0.02494, params: {'n_neighbors': 17, 'p': 1, 'weights': 'distance'},\n",
       " mean: 0.96667, std: 0.02981, params: {'n_neighbors': 17, 'p': 2, 'weights': 'uniform'},\n",
       " mean: 0.97333, std: 0.02494, params: {'n_neighbors': 17, 'p': 2, 'weights': 'distance'},\n",
       " mean: 0.96667, std: 0.02981, params: {'n_neighbors': 18, 'p': 1, 'weights': 'uniform'},\n",
       " mean: 0.97333, std: 0.02494, params: {'n_neighbors': 18, 'p': 1, 'weights': 'distance'},\n",
       " mean: 0.96667, std: 0.02981, params: {'n_neighbors': 18, 'p': 2, 'weights': 'uniform'},\n",
       " mean: 0.97333, std: 0.02494, params: {'n_neighbors': 18, 'p': 2, 'weights': 'distance'},\n",
       " mean: 0.97333, std: 0.02494, params: {'n_neighbors': 19, 'p': 1, 'weights': 'uniform'},\n",
       " mean: 0.97333, std: 0.02494, params: {'n_neighbors': 19, 'p': 1, 'weights': 'distance'},\n",
       " mean: 0.96667, std: 0.02981, params: {'n_neighbors': 19, 'p': 2, 'weights': 'uniform'},\n",
       " mean: 0.97333, std: 0.02494, params: {'n_neighbors': 19, 'p': 2, 'weights': 'distance'},\n",
       " mean: 0.97333, std: 0.02494, params: {'n_neighbors': 20, 'p': 1, 'weights': 'uniform'},\n",
       " mean: 0.97333, std: 0.02494, params: {'n_neighbors': 20, 'p': 1, 'weights': 'distance'},\n",
       " mean: 0.96000, std: 0.03266, params: {'n_neighbors': 20, 'p': 2, 'weights': 'uniform'},\n",
       " mean: 0.97333, std: 0.02494, params: {'n_neighbors': 20, 'p': 2, 'weights': 'distance'},\n",
       " mean: 0.97333, std: 0.02494, params: {'n_neighbors': 21, 'p': 1, 'weights': 'uniform'},\n",
       " mean: 0.97333, std: 0.02494, params: {'n_neighbors': 21, 'p': 1, 'weights': 'distance'},\n",
       " mean: 0.96667, std: 0.02981, params: {'n_neighbors': 21, 'p': 2, 'weights': 'uniform'},\n",
       " mean: 0.97333, std: 0.02494, params: {'n_neighbors': 21, 'p': 2, 'weights': 'distance'},\n",
       " mean: 0.96000, std: 0.02494, params: {'n_neighbors': 22, 'p': 1, 'weights': 'uniform'},\n",
       " mean: 0.96000, std: 0.02494, params: {'n_neighbors': 22, 'p': 1, 'weights': 'distance'},\n",
       " mean: 0.96000, std: 0.03266, params: {'n_neighbors': 22, 'p': 2, 'weights': 'uniform'},\n",
       " mean: 0.97333, std: 0.02494, params: {'n_neighbors': 22, 'p': 2, 'weights': 'distance'},\n",
       " mean: 0.96000, std: 0.02494, params: {'n_neighbors': 23, 'p': 1, 'weights': 'uniform'},\n",
       " mean: 0.96667, std: 0.02108, params: {'n_neighbors': 23, 'p': 1, 'weights': 'distance'},\n",
       " mean: 0.96000, std: 0.03266, params: {'n_neighbors': 23, 'p': 2, 'weights': 'uniform'},\n",
       " mean: 0.98000, std: 0.01633, params: {'n_neighbors': 23, 'p': 2, 'weights': 'distance'},\n",
       " mean: 0.95333, std: 0.02667, params: {'n_neighbors': 24, 'p': 1, 'weights': 'uniform'},\n",
       " mean: 0.96667, std: 0.02108, params: {'n_neighbors': 24, 'p': 1, 'weights': 'distance'},\n",
       " mean: 0.94667, std: 0.03399, params: {'n_neighbors': 24, 'p': 2, 'weights': 'uniform'},\n",
       " mean: 0.98000, std: 0.01633, params: {'n_neighbors': 24, 'p': 2, 'weights': 'distance'},\n",
       " mean: 0.96000, std: 0.02494, params: {'n_neighbors': 25, 'p': 1, 'weights': 'uniform'},\n",
       " mean: 0.96667, std: 0.02108, params: {'n_neighbors': 25, 'p': 1, 'weights': 'distance'},\n",
       " mean: 0.96000, std: 0.02494, params: {'n_neighbors': 25, 'p': 2, 'weights': 'uniform'},\n",
       " mean: 0.96667, std: 0.02108, params: {'n_neighbors': 25, 'p': 2, 'weights': 'distance'},\n",
       " mean: 0.94667, std: 0.03399, params: {'n_neighbors': 26, 'p': 1, 'weights': 'uniform'},\n",
       " mean: 0.96000, std: 0.03266, params: {'n_neighbors': 26, 'p': 1, 'weights': 'distance'},\n",
       " mean: 0.94667, std: 0.03399, params: {'n_neighbors': 26, 'p': 2, 'weights': 'uniform'},\n",
       " mean: 0.96000, std: 0.02494, params: {'n_neighbors': 26, 'p': 2, 'weights': 'distance'},\n",
       " mean: 0.95333, std: 0.02667, params: {'n_neighbors': 27, 'p': 1, 'weights': 'uniform'},\n",
       " mean: 0.96000, std: 0.02494, params: {'n_neighbors': 27, 'p': 1, 'weights': 'distance'},\n",
       " mean: 0.94667, std: 0.03399, params: {'n_neighbors': 27, 'p': 2, 'weights': 'uniform'},\n",
       " mean: 0.97333, std: 0.01333, params: {'n_neighbors': 27, 'p': 2, 'weights': 'distance'},\n",
       " mean: 0.96667, std: 0.02108, params: {'n_neighbors': 28, 'p': 1, 'weights': 'uniform'},\n",
       " mean: 0.96000, std: 0.03266, params: {'n_neighbors': 28, 'p': 1, 'weights': 'distance'},\n",
       " mean: 0.94000, std: 0.03887, params: {'n_neighbors': 28, 'p': 2, 'weights': 'uniform'},\n",
       " mean: 0.96000, std: 0.03266, params: {'n_neighbors': 28, 'p': 2, 'weights': 'distance'},\n",
       " mean: 0.94667, std: 0.03399, params: {'n_neighbors': 29, 'p': 1, 'weights': 'uniform'},\n",
       " mean: 0.95333, std: 0.03399, params: {'n_neighbors': 29, 'p': 1, 'weights': 'distance'},\n",
       " mean: 0.93333, std: 0.04216, params: {'n_neighbors': 29, 'p': 2, 'weights': 'uniform'},\n",
       " mean: 0.96667, std: 0.02108, params: {'n_neighbors': 29, 'p': 2, 'weights': 'distance'},\n",
       " mean: 0.94000, std: 0.04422, params: {'n_neighbors': 30, 'p': 1, 'weights': 'uniform'},\n",
       " mean: 0.95333, std: 0.03399, params: {'n_neighbors': 30, 'p': 1, 'weights': 'distance'},\n",
       " mean: 0.94000, std: 0.03887, params: {'n_neighbors': 30, 'p': 2, 'weights': 'uniform'},\n",
       " mean: 0.96000, std: 0.02494, params: {'n_neighbors': 30, 'p': 2, 'weights': 'distance'}]"
      ]
     },
     "execution_count": 36,
     "metadata": {},
     "output_type": "execute_result"
    }
   ],
   "source": [
    "para_search2.grid_scores_"
   ]
  },
  {
   "cell_type": "code",
   "execution_count": 37,
   "metadata": {},
   "outputs": [
    {
     "name": "stdout",
     "output_type": "stream",
     "text": [
      "{'n_neighbors': 10, 'p': 2, 'weights': 'distance'}\n",
      "0.9866666666666667\n"
     ]
    }
   ],
   "source": [
    "print(para_search2.best_params_)\n",
    "print(para_search2.best_score_)"
   ]
  },
  {
   "cell_type": "markdown",
   "metadata": {},
   "source": [
    "This time the best model is a weighted KNN with 10 neighbors and euclidean distance.\n",
    "\n",
    "Try to use cross validation and grid search to fit a better KNN model on the Digit Recognizer Compitition."
   ]
  },
  {
   "cell_type": "markdown",
   "metadata": {},
   "source": [
    "<p><a name=\"validation_curves\"></a></p>\n",
    "## Diagnostic Tools - Validation Curves\n",
    "- Grid search is the appropriate way to optimize multiple hyperparameters simultaneously \n",
    "- Validation curves do not replace grid search, but they can show the influence of any one hyperparameter on the model fit\n",
    "\n",
    "Show the validation curve of the number of neighbors for **KNN**:"
   ]
  },
  {
   "cell_type": "code",
   "execution_count": 168,
   "metadata": {},
   "outputs": [],
   "source": [
    "from sklearn.model_selection import validation_curve\n",
    "param_range = range(3, 31)\n",
    "kwargs = dict(param_name='n_neighbors', param_range=param_range)\n",
    "train_scores, test_scores = validation_curve(knn, iris.data, iris.target, **kwargs)\n",
    "train_scores_mean = np.mean(train_scores, axis=1)\n",
    "train_scores_std = np.std(train_scores, axis=1)\n",
    "test_scores_mean = np.mean(test_scores, axis=1)\n",
    "test_scores_std = np.std(test_scores, axis=1)\n"
   ]
  },
  {
   "cell_type": "code",
   "execution_count": 169,
   "metadata": {},
   "outputs": [
    {
     "data": {
      "image/png": "[encoded data removed]",
      "text/plain": [
       "<matplotlib.figure.Figure at 0x1a12be2198>"
      ]
     },
     "metadata": {},
     "output_type": "display_data"
    }
   ],
   "source": [
    "# Train mean and standard deviation\n",
    "train_color = \"darkorange\"\n",
    "plt.plot(param_range, train_scores_mean, color=train_color)\n",
    "train_y1 = train_scores_mean - train_scores_std\n",
    "train_y2 = train_scores_mean + train_scores_std\n",
    "plt.fill_between(param_range, y1=train_y1, y2=train_y2, color=train_color, alpha=0.2)\n",
    "\n",
    "# Test mean and standard deviation\n",
    "test_color = \"navy\"\n",
    "plt.plot(param_range, test_scores_mean)\n",
    "test_y1 = test_scores_mean - test_scores_std\n",
    "test_y2 = test_scores_mean + test_scores_std\n",
    "plt.fill_between(param_range, y1=test_y1, y2=test_y2, color=test_color, alpha=0.2)\n",
    "plt.show()"
   ]
  },
  {
   "cell_type": "markdown",
   "metadata": {},
   "source": [
    "<p><a name=\"validation_curves\"></a></p>\n",
    "## Diagnostic Tools - Learning Curves\n",
    "- By plotting model training and validation scores as a function of the training size, we can easily detect whether the model suffers from overfitting or underfitting\n",
    "- Learning and validation curves are essential debugging tools for model selection\n",
    "\n",
    "scikit-learn provides a learning_curve function, but we need to write a function to plot the data. Here we see the same **KNN** algorithm plotted in the learning curve:"
   ]
  },
  {
   "cell_type": "code",
   "execution_count": 182,
   "metadata": {},
   "outputs": [],
   "source": [
    "import matplotlib.pyplot as plt\n",
    "from sklearn.model_selection import learning_curve\n",
    "\n",
    "def plot_learning_curve(estimators, X, y, cv=10, scoring=None, n_jobs=1):\n",
    "    figsize = (16 * len(estimators), 4.8)\n",
    "    fig, axes = plt.subplots(nrows=1, ncols=len(estimators), figsize=figsize)\n",
    "\n",
    "    if len(estimators) == 1:\n",
    "        axes = [axes]\n",
    "\n",
    "    for ax, estimator in zip(axes, estimators):\n",
    "        kwargs = dict(\n",
    "            estimator=estimator,\n",
    "            X=X,\n",
    "            y=y,\n",
    "            train_sizes=np.linspace(start=0.1, stop=1.0, num=10),\n",
    "            cv=cv,\n",
    "            scoring=None,\n",
    "            n_jobs=n_jobs,\n",
    "        )\n",
    "        train_sizes, train_scores, test_scores = learning_curve(\n",
    "            estimator=estimator,\n",
    "            X=X,\n",
    "            y=y,\n",
    "            train_sizes=np.linspace(start=0.1, stop=1.0, num=10),\n",
    "            cv=cv,\n",
    "            scoring=None,\n",
    "            n_jobs=n_jobs,\n",
    "        )\n",
    "        xlabel = 'Number of training samples'\n",
    "        _plot_curve(\n",
    "            axes=ax,\n",
    "            train_sizes=train_sizes,\n",
    "            train_scores=train_scores,\n",
    "            test_scores=test_scores,\n",
    "            xlabel=xlabel,\n",
    "            scoring=scoring\n",
    "        )\n",
    "        ax.set_title(estimator.__class__.__name__)\n",
    "    return fig\n",
    "\n",
    "def _plot_curve(axes, train_sizes, train_scores, test_scores, xlabel,\n",
    "                xscale=None, scoring=None):\n",
    "    if scoring is None:\n",
    "        scoring = 'score'\n",
    "\n",
    "    train_mean = np.mean(train_scores, axis=1)\n",
    "    train_std = np.std(train_scores, axis=1)\n",
    "    test_mean = np.mean(test_scores, axis=1)\n",
    "    test_std = np.std(test_scores, axis=1)\n",
    "\n",
    "    lbl = 'training {}'.format(scoring)\n",
    "    train_kwds = dict(color='blue', marker='o', markersize=5, label=lbl)\n",
    "    axes.plot(train_sizes, train_mean, **train_kwds)\n",
    "    axes.fill_between(\n",
    "        train_sizes,\n",
    "        train_mean + train_std,\n",
    "        train_mean - train_std,\n",
    "        alpha=0.15,\n",
    "        color='blue'\n",
    "    )\n",
    "\n",
    "    lbl = 'validation {}'.format(scoring)\n",
    "    tst_kwds = dict(\n",
    "        color='green',\n",
    "        linestyle='--',\n",
    "        marker='s',\n",
    "        markersize=5,\n",
    "        label=lbl\n",
    "    )\n",
    "    axes.plot(train_sizes, test_mean, **tst_kwds)\n",
    "    axes.fill_between(\n",
    "        train_sizes,\n",
    "        test_mean + test_std,\n",
    "        test_mean - test_std,\n",
    "        alpha=0.15,\n",
    "        color='green'\n",
    "    )\n",
    "    axes.grid()\n",
    "    if xscale is not None:\n",
    "        axes.set_xscale(xscale)\n",
    "    axes.set_xlabel(xlabel)\n",
    "    axes.set_ylabel(scoring.capitalize())\n",
    "    axes.legend(loc='upper right')\n",
    "    # Calculate ymin\n",
    "    min_train = np.min(train_mean - train_std)\n",
    "    min_test = np.min(test_mean - test_std)\n",
    "    ymin = np.round(min(min_train, min_test) - .05, decimals=1)\n",
    "    axes.set_ylim([ymin, 1.0])"
   ]
  },
  {
   "cell_type": "code",
   "execution_count": 183,
   "metadata": {},
   "outputs": [
    {
     "data": {
      "image/png": "[encoded data removed]",
      "text/plain": [
       "<matplotlib.figure.Figure at 0x1a155fbb70>"
      ]
     },
     "execution_count": 183,
     "metadata": {},
     "output_type": "execute_result"
    }
   ],
   "source": [
    "plot_learning_curve([knn], iris.data, iris.target)"
   ]
  },
  {
   "cell_type": "markdown",
   "metadata": {},
   "source": [
    "<p><a name=\"ref\"></a></p>\n",
    "## Reference\n",
    "\n",
    "- [Homepage of sklearn](http://scikit-learn.org/)\n",
    "\n",
    "- [An Introduction to Statistical Learning](http://www-bcf.usc.edu/~gareth/ISL/)\n",
    "\n",
    "- [Python Machine Learning by Sebastian Raschka](https://www.packtpub.com/big-data-and-business-intelligence/python-machine-learning)"
   ]
  },
  {
   "cell_type": "code",
   "execution_count": null,
   "metadata": {
    "collapsed": true
   },
   "outputs": [],
   "source": []
  }
 ],
 "metadata": {
  "kernelspec": {
   "display_name": "Python 3",
   "language": "python",
   "name": "python3"
  },
  "language_info": {
   "codemirror_mode": {
    "name": "ipython",
    "version": 3
   },
   "file_extension": ".py",
   "mimetype": "text/x-python",
   "name": "python",
   "nbconvert_exporter": "python",
   "pygments_lexer": "ipython3",
   "version": "3.6.4"
  }
 },
 "nbformat": 4,
 "nbformat_minor": 2
}
